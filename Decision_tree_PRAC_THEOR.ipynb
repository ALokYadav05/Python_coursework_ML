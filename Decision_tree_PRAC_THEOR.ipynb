{
  "nbformat": 4,
  "nbformat_minor": 0,
  "metadata": {
    "colab": {
      "provenance": []
    },
    "kernelspec": {
      "name": "python3",
      "display_name": "Python 3"
    },
    "language_info": {
      "name": "python"
    }
  },
  "cells": [
    {
      "cell_type": "markdown",
      "source": [
        "# Q-1)  What is a Decision Tree, and how does it work?\n",
        "\n",
        "Ans) A decision tree is a non-parametric, supervised learning algorithm commonly used for classification and regression tasks.\n",
        "\n",
        "-> It employs a tree-like model of decisions and their possible consequences, including chance event outcomes, resource costs, and utility.\n",
        "\n",
        "\n",
        "* Structure of a Decision Tree:\n",
        "\n",
        "-> Root Node: Represents the entire dataset and is the starting point of the tree.\n",
        "\n",
        "-> Internal Nodes: Each internal node represents a decision based on an attribute, leading to further branches.\n",
        "\n",
        "-> Branches: Denote the outcome of a decision, connecting nodes and leading to subsequent decisions or final outcomes.\n",
        "\n",
        "-> Leaf Nodes: Also known as terminal nodes, these represent the final decision or classification.\n",
        "\n",
        "* working of Decision Tree:\n",
        "\n",
        "-> Splitting: The process begins at the root node, where the dataset is divided based on the feature that results in the most homogeneous subsets concerning the target variable.\n",
        "\n",
        "-> Gini Impurity: Measures the frequency of a randomly chosen element being incorrectly labeled.\n",
        "\n",
        "-> Information Gain: Assesses the reduction in entropy or uncertainty after a dataset is split on an attribute.\n",
        "\n",
        "\n",
        "-> All data points in a node belong to the same class.\n",
        "There are no remaining attributes to split.\n",
        "\n",
        "-> The predefined stopping conditions, such as maximum tree depth, are satisfied.\n",
        "\n",
        "-> Pruning: To enhance the model's generalization and prevent overfitting, pruning techniques are applied to remove branches that have little importance or are based on noisy data."
      ],
      "metadata": {
        "id": "Yc5FjihBmdgU"
      }
    },
    {
      "cell_type": "markdown",
      "source": [
        "# Q-2) What are impurity measures in Decision Trees?\n",
        "\n",
        "Ans) In decision trees, impurity measures evaluate the degree of disorder or heterogeneity within a node, guiding the selection of attributes that best split the data to achieve more homogeneous subsets.\n",
        "\n",
        "->  Common impurity measures include Gini Impurity, Entropy, and Classification Error.\n",
        "\n",
        "* Gini Impurity:\n",
        "\n",
        "-> Gini Impurity assesses the probability of incorrectly classifying a randomly chosen element if it were labeled according to the distribution of labels in the node.\n",
        "\n",
        "->  It ranges from 0 (pure node) to a maximum value that depends on the number of classes, indicating higher impurity. The formula for Gini Impurity is:\n",
        "\n",
        "Gini Impurity\n",
        "=\n",
        "1\n",
        "−\n",
        "∑\n",
        "𝑖\n",
        "=\n",
        "1\n",
        "𝑛\n",
        "𝑝\n",
        "𝑖\n",
        "2\n",
        "\n",
        "*  Entropy:\n",
        "\n",
        "-> Entropy measures the level of uncertainty or randomness in the node. A higher entropy value indicates greater disorder and impurity. The entropy is calculated using the formula:\n",
        "\n",
        "Entropy\n",
        "=\n",
        "−\n",
        "∑\n",
        "𝑖\n",
        "=\n",
        "1\n",
        "𝑛\n",
        "𝑝\n",
        "𝑖\n",
        "log\n",
        "⁡\n",
        "2\n",
        "(\n",
        "𝑝\n",
        "𝑖\n",
        ")\n",
        "\n",
        "\n",
        "*  Classification Error:\n",
        "\n",
        "-> Classification Error represents the fraction of misclassified instances in the node. It is defined as:\n",
        "\n",
        "Classification Error\n",
        "=\n",
        "1\n",
        "−\n",
        "max\n",
        "⁡\n",
        "(\n",
        "𝑝\n",
        "𝑖\n",
        ")\n",
        "\n",
        "\n",
        "-> These impurity measures are instrumental in decision tree algorithms, aiding in selecting the optimal splits to construct an effective model."
      ],
      "metadata": {
        "id": "i52Qst6bnHOR"
      }
    },
    {
      "cell_type": "markdown",
      "source": [
        "# Q-3) What is the mathematical formula for Gini Impurity?\n",
        "\n",
        "Ans) The Gini Impurity is a metric used in decision trees to quantify the impurity or disorder of a dataset.\n",
        "\n",
        "-> It represents the probability of incorrectly classifying a randomly chosen element if it were labeled according to the distribution of labels in the dataset.\n",
        "\n",
        "-> Gini Impurity (\n",
        "GI) is calculated using the formula:\n",
        "\n",
        "𝐺\n",
        "𝐼\n",
        "=\n",
        "1\n",
        "−\n",
        "∑\n",
        "𝑖\n",
        "=\n",
        "1\n",
        "𝑛\n",
        "(\n",
        "𝑝\n",
        "𝑖\n",
        ")\n",
        "2\n",
        "\n",
        "\n",
        "-> The Gini Impurity ranges between 0 and 1, where:\n",
        "\n",
        "-> 0 indicates that all elements belong to a single class, signifying perfect purity.\n",
        "\n",
        "-> Values approaching 1 indicate greater impurity, with elements distributed across various classes.\n",
        "\n",
        "-> Decision tree algorithms utilize the Gini Impurity to determine the optimal splits at each node, aiming to reduce impurity and enhance the homogeneity of the resulting subsets.\n"
      ],
      "metadata": {
        "id": "hZ1qtvdBnrLl"
      }
    },
    {
      "cell_type": "markdown",
      "source": [
        "# Q-4)  What is the mathematical formula for Entropy?\n",
        "\n",
        "Ans) Entropy, in the context of decision trees, is a measure of impurity or disorder within a dataset.\n",
        "\n",
        "->  It quantifies the uncertainty associated with predicting the class of a randomly chosen instance. The entropy (\n",
        "H) for a dataset with\n",
        "n classes is calculated using the formula:\n",
        "\n",
        "𝐻\n",
        "(\n",
        "𝑆\n",
        ")\n",
        "=\n",
        "−\n",
        "∑\n",
        "𝑖\n",
        "=\n",
        "1\n",
        "𝑛\n",
        "𝑝\n",
        "𝑖\n",
        "log\n",
        "⁡\n",
        "2\n",
        "(\n",
        "𝑝\n",
        "𝑖\n",
        ")\n",
        "\n",
        "->  This formula sums the product of each class's probability and the logarithm (base 2) of that probability, multiplied by -1. The logarithm base 2 is used to measure the information in bits.\n",
        "GEEKSFORGEEKS\n",
        "\n",
        "-> Entropy values range between 0 and 1 for binary classifications:\n",
        "\n",
        "-> Entropy = 0: Indicates a perfectly pure node, where all instances belong to a single class.\n",
        "\n",
        "-> Entropy = 1: Represents a completely impure node, with an equal distribution of instances across all classes.\n",
        "\n",
        "-> In decision tree algorithms, entropy is utilized to determine the optimal feature splits by calculating the information gain, aiming to reduce uncertainty and create more homogeneous subsets."
      ],
      "metadata": {
        "id": "ybxd97QGoFwA"
      }
    },
    {
      "cell_type": "markdown",
      "source": [
        "# Q-5) What is Information Gain, and how is it used in Decision Trees?\n",
        "\n",
        "Ans) Information Gain is a metric used in decision trees to quantify the effectiveness of an attribute in reducing uncertainty or impurity when splitting a dataset.\n",
        "\n",
        "-> It measures the decrease in entropy—representing disorder or unpredictability—achieved by partitioning the data based on a specific feature.\n",
        "\n",
        "->  In essence, Information Gain evaluates how well an attribute separates the data into distinct classes, guiding the selection of attributes that lead to the most informative splits.\n",
        "\n",
        "-> H(S)=−∑\n",
        "i=1\n",
        "n\n",
        "​\n",
        " p\n",
        "i\n",
        "​\n",
        " log\n",
        "2\n",
        "​\n",
        " (p\n",
        "i\n",
        "​\n",
        " )\n",
        "\n",
        " -> During the construction of a decision tree, the algorithm evaluates potential splits at each node by calculating the Information Gain for each candidate attribute.\n",
        "\n",
        " -> The attribute that results in the highest Information Gain is selected for the split, as it most effectively reduces entropy and leads to more homogeneous subsets.\n",
        "\n",
        " -> This process is recursively applied to each resulting subset, constructing the tree in a top-down manner.\n"
      ],
      "metadata": {
        "id": "xEXI3AjWof0c"
      }
    },
    {
      "cell_type": "markdown",
      "source": [
        "# Q-6 )What is the difference between Gini Impurity and Entropy?\n",
        "\n",
        "Ans) Gini Impurity and Entropy are both metrics used in decision tree algorithms to evaluate the impurity or disorder within a dataset, guiding the selection of attributes for splitting the data.\n",
        "\n",
        " **key differences between them:**\n",
        "\n",
        "*  Computational Efficiency:\n",
        "\n",
        "-> Gini Impurity: Involves straightforward calculations without logarithmic functions, making it computationally less intensive and faster to compute.\n",
        "\n",
        "-> Entropy: Requires the computation of logarithms, which can be more computationally expensive and slower.\n",
        "\n",
        "*  Sensitivity to Class Distribution:\n",
        "\n",
        "-> Gini Impurity: Penalizes misclassifications proportionally to the square of class probabilities, making it less sensitive to changes in class distribution.\n",
        "\n",
        "-> Entropy: Penalizes misclassifications based on the logarithm of class probabilities, making it more sensitive to changes in class distribution.\n",
        "\n",
        "*  Range of Values:\n",
        "\n",
        "-> Gini Impurity: Ranges from 0 (pure node) to a maximum value that depends on the number of classes, with a maximum impurity of 0.5 in binary classification.\n",
        "\n",
        "-> Entropy: Ranges from 0 (pure node) to 1 (maximum impurity) in binary classification.\n",
        "\n",
        "* Bias Towards Attributes:\n",
        "\n",
        "-> Gini Impurity: Tends to favor attributes with larger numbers of distinct values, which can lead to biased splits.\n",
        "\n",
        "-> Entropy: Provides a more balanced evaluation of attributes, reducing bias towards attributes with many distinct values.\n",
        "\n",
        "*  Practical Usage:\n",
        "\n",
        "-> Gini Impurity: Commonly used in algorithms like CART (Classification and Regression Trees) due to its computational efficiency.\n",
        "\n",
        "-> Entropy: Used in algorithms like ID3 and C4.5, where a more nuanced measure of impurity is desired."
      ],
      "metadata": {
        "id": "J2HW5k5Ro2hw"
      }
    },
    {
      "cell_type": "markdown",
      "source": [
        "# Q-7) What is the mathematical explanation behind Decision Trees?\n",
        "\n",
        "Ans) Decision trees are a type of supervised learning algorithm used for both classification and regression tasks.\n",
        "\n",
        "-> They function by recursively partitioning the data into subsets based on feature values, ultimately leading to a model that predicts the target variable.\n",
        "\n",
        " **Mathematical Foundation:**\n",
        "\n",
        "* Tree Structure:\n",
        "\n",
        "-> Nodes: Each internal node represents a decision based on a feature.\n",
        "Edges: Each branch or edge corresponds to the outcome of a decision, leading to the next node.\n",
        "\n",
        "-> Leaves: Terminal nodes (leaves) represent the final output or class label.\n",
        "\n",
        "* Splitting Criteria:\n",
        "\n",
        "-> The core of decision tree construction lies in selecting the optimal feature and threshold to split the data at each node.\n",
        "\n",
        "->  The objective is to maximize the homogeneity of the resulting subsets concerning the target variable.\n",
        "\n",
        "* Information Gain (IG):\n",
        "\n",
        "-> Derived from entropy, IG measures the reduction in uncertainty about the target variable after partitioning the data based on a feature.\n",
        "\n",
        "IG\n",
        "(\n",
        "𝑆\n",
        ",\n",
        "𝐴\n",
        ")\n",
        "=\n",
        "𝐻\n",
        "(\n",
        "𝑆\n",
        ")\n",
        "−\n",
        "∑\n",
        "𝑣\n",
        "∈\n",
        "Values\n",
        "(\n",
        "𝐴\n",
        ")\n",
        "∣\n",
        "𝑆\n",
        "𝑣\n",
        "∣\n",
        "∣\n",
        "𝑆\n",
        "∣\n",
        "𝐻\n",
        "(\n",
        "𝑆\n",
        "𝑣\n",
        ")"
      ],
      "metadata": {
        "id": "mj7aAPv8pcJ1"
      }
    },
    {
      "cell_type": "markdown",
      "source": [
        "# Q-8) What is Pre-Pruning in Decision Trees?\n",
        "\n",
        "Ans) Pre-pruning, also known as early stopping, is a technique used in decision tree algorithms to prevent the model from becoming overly complex and overfitting the training data.\n",
        "\n",
        "-> It involves halting the growth of the decision tree at an early stage, before it has fully classified the training set.\n",
        "\n",
        "->  This is achieved by setting constraints during the tree-building process, such as:\n",
        "\n",
        "-> Maximum Depth: Limiting the depth of the tree to a predefined level.\n",
        "\n",
        "-> Minimum Samples per Leaf: Specifying the minimum number of samples required to form a leaf node.\n",
        "\n",
        "-> Minimum Information Gain: Setting a threshold for the minimum information gain required to split a node.\n",
        "\n",
        "-> By implementing these constraints, pre-pruning aims to reduce the complexity of the final classifier, thereby improving predictive accuracy by mitigating overfitting.\n",
        "\n",
        "-> However, pre-pruning methods can encounter challenges such as the horizon effect, where the induction process is prematurely terminated by the stopping criterion, potentially missing important structural information about the sample space."
      ],
      "metadata": {
        "id": "cRAIkBLxqCIK"
      }
    },
    {
      "cell_type": "markdown",
      "source": [
        "# Q-9) What is Post-Pruning in Decision Trees\t?\n",
        "\n",
        "Ans) Post-pruning, also known as cost-complexity pruning, is a technique applied to decision trees after they have been fully grown.\n",
        "\n",
        "->  Its primary purpose is to enhance the model's generalization capabilities by reducing overfitting, which occurs when a model captures not only the underlying patterns in the training data but also the noise.\n",
        "\n",
        "-> By simplifying the tree, post-pruning aims to improve predictive accuracy on unseen data.\n",
        "\n",
        "* Process of Post-Pruning:\n",
        "\n",
        "-> Tree Construction: Initially, a decision tree is grown to its maximum depth, allowing it to perfectly classify or fit the training data.\n",
        "\n",
        "->  This often results in a complex tree that may overfit.\n",
        "\n",
        "-> Pruning Phase: Starting from the leaf nodes and moving upwards (a bottom-up approach), the algorithm evaluates each non-leaf node to determine whether replacing it with a leaf node would improve or maintain the model's performance on a validation set.\n",
        "\n",
        "->  If pruning a node does not adversely affect the model's accuracy, the subtree rooted at that node is replaced with a leaf node."
      ],
      "metadata": {
        "id": "N14EDQMZqT0s"
      }
    },
    {
      "cell_type": "markdown",
      "source": [
        "# Q-10) What is the difference between Pre-Pruning and Post-Pruning?\n",
        "\n",
        "Ans) Pre-pruning and post-pruning are two strategies employed in decision tree algorithms to mitigate overfitting and enhance model generalization by simplifying the tree structure.\n",
        "\n",
        "-> While both aim to improve predictive accuracy, they differ in their timing and methodology.\n",
        "\n",
        "* Pre-Pruning (Early Stopping):\n",
        "\n",
        "-> Timing: Occurs during the tree-building process.\n",
        "\n",
        "-> Methodology: The growth of the tree is halted prematurely based on specific stopping criteria, preventing the model from becoming overly complex. Common stopping criteria include:\n",
        "\n",
        "-> Maximum Depth: Limiting the depth of the tree to a predefined level.\n",
        "\n",
        "-> Minimum Samples per Leaf: Requiring a minimum number of samples in a leaf node to proceed with a split.\n",
        "\n",
        "-> Minimum Information Gain: Setting a threshold for the minimum information gain required to justify a split.\n",
        "\n",
        "\n",
        "* Post-Pruning (Pruning):\n",
        "\n",
        "-> Timing: Applied after the tree has been fully grown.\n",
        "\n",
        "-> Methodology: The fully developed tree is pruned by removing sections that provide little to no power in predicting target variables. This is typically done by:\n",
        "\n",
        "-> Reduced Error Pruning: Replacing nodes with their most frequent class if it doesn't adversely affect the model's accuracy on a validation set.\n",
        "\n",
        "-> Cost-Complexity Pruning: Introducing a complexity parameter to balance the trade-off between the tree's complexity and its fit to the training data.\n"
      ],
      "metadata": {
        "id": "OSRgjC3Lqo1f"
      }
    },
    {
      "cell_type": "markdown",
      "source": [
        "# Q-11) What is a Decision Tree Regressor?\n",
        "\n",
        "Ans) A Decision Tree Regressor is a supervised learning algorithm used for predicting continuous numerical values.\n",
        "\n",
        "->  It operates by recursively partitioning the data into subsets based on feature values, constructing a tree-like model where each internal node represents a decision based on a feature, and each leaf node corresponds to a predicted value.\n",
        "\n",
        "-> Recursive Partitioning: The algorithm starts with the entire dataset and recursively splits it into subsets based on the feature that minimizes the prediction error, such as mean squared error.\n",
        "\n",
        "-> Leaf Nodes: Once the data cannot be split further or meets a stopping criterion (e.g., minimum number of samples per leaf), a leaf node is created, representing the predicted continuous value, often the mean of the target values in that subset.\n",
        "\n",
        "-> Interpretability: The tree structure provides a clear visualization of decision paths, making it easy to interpret the model's predictions.\n",
        "\n",
        "-> Non-Linearity: Capable of modeling complex, non-linear relationships between features and the target variable."
      ],
      "metadata": {
        "id": "l52voP-urBCk"
      }
    },
    {
      "cell_type": "markdown",
      "source": [
        "# Q-12) What are the advantages and disadvantages of Decision Trees?\n",
        "\n",
        "Ans) ->  Decision trees are popular tools in machine learning and decision analysis due to their intuitive, tree-like structure that models decisions and their possible consequences.\n",
        "\n",
        "* Advantages:\n",
        "\n",
        "-> Simplicity and Interpretability: Decision trees are straightforward to understand and interpret.\n",
        "\n",
        "->  Their flowchart-like structure allows individuals, even those without technical expertise, to grasp the decision-making process easily.\n",
        "\n",
        "-> Versatility: They can handle both numerical and categorical data, making them applicable to a wide range of tasks, including classification, regression, and feature selection.\n",
        "\n",
        "\n",
        "-> Minimal Data Preparation: Decision trees require relatively little data preprocessing. They do not necessitate normalization or scaling of data, and they can manage datasets with missing values.\n",
        "\n",
        "-> Non-Parametric Nature: Being non-parametric, decision trees do not assume any underlying distribution for the data, making them flexible in modeling complex relationships.\n",
        "\n",
        "* Disadvantages:\n",
        "\n",
        "-> Overfitting: Decision trees are prone to overfitting, especially when they become too deep or complex, capturing noise in the data rather than the underlying pattern.\n",
        "\n",
        "-> Techniques like pruning or setting a maximum depth are often employed to mitigate this issue.\n",
        "\n",
        "-> High Variance: Small changes in the data can lead to significantly different tree structures, indicating that decision trees are unstable and can have high variance.\n",
        "\n",
        "-> Biased Towards Dominant Classes: Decision trees can be biased when dealing with imbalanced datasets, favoring classes that dominate the dataset.\n",
        "\n",
        "-> Complex Calculations: As the number of features increases, the computations involved in determining the optimal splits can become complex and resource-intensive.\n"
      ],
      "metadata": {
        "id": "Y9PBDzSGrQPM"
      }
    },
    {
      "cell_type": "markdown",
      "source": [
        "# Q-13) How does a Decision Tree handle missing values?\n",
        "\n",
        "Ans) Decision trees employ various strategies to handle missing values during both training and prediction phases. Key methods include:\n",
        "\n",
        "-> Ignoring Instances with Missing Values: Some algorithms, particularly earlier ones like ID3, simply exclude instances with missing values from the training process.\n",
        "\n",
        "-> While straightforward, this approach can lead to loss of valuable information, especially if missingness is prevalent.\n",
        "\n",
        "-> Imputation: Missing values are filled in using statistical measures such as the mean, median, or mode of the feature.\n",
        "\n",
        "->  Alternatively, more sophisticated techniques like k-nearest neighbors (KNN) imputation can be employed. This method allows the use of all available data but may introduce bias if the imputation model is not accurate.\n",
        "\n",
        "-> Treating Missing Values as a Separate Category: For categorical features, missing values can be considered as an additional category.\n",
        "\n",
        "-> This approach is simple but assumes that the absence of data carries specific information, which may not always be the case.\n",
        "\n",
        "\n",
        "-> Surrogate Splits: When a value is missing for the primary splitting feature at a node, the algorithm identifies an alternative feature (surrogate) that closely mimics the primary split.\n",
        "\n",
        "->  The instance is then directed based on this surrogate feature, allowing the tree to handle missing data without imputation."
      ],
      "metadata": {
        "id": "1wMAg2qPsMS0"
      }
    },
    {
      "cell_type": "markdown",
      "source": [
        "# Q-14)  How does a Decision Tree handle categorical features\t?\n",
        "\n",
        "Ans)  Decision trees are inherently capable of handling both numerical and categorical features. However, the approach to managing categorical data can vary depending on the specific implementation of the decision tree algorithm.\n",
        "\n",
        "* Handling Categorical Features in Decision Trees:\n",
        "\n",
        "-> Direct Handling: Some decision tree algorithms can process categorical features directly without any transformation.\n",
        "\n",
        "-> They determine the optimal splits based on the categories themselves, effectively managing both numerical and categorical data simultaneously.\n",
        "\n",
        "\n",
        "-> Encoding Categorical Features: In implementations where direct handling isn't supported, categorical features are transformed into numerical representations. Two common encoding techniques are:\n",
        "\n",
        "-> One-Hot Encoding: Each category is converted into a binary vector, where each category is represented by a separate feature that takes a value of 0 or 1.\n",
        "\n",
        "-> Ordinal Encoding: Categories are assigned unique numerical values. This method is straightforward but may introduce unintended ordinal relationships between categories."
      ],
      "metadata": {
        "id": "8r-BSaXNsw1B"
      }
    },
    {
      "cell_type": "markdown",
      "source": [
        "# Q-15) What are some real-world applications of Decision Trees?\n",
        "\n",
        "Ans) Decision trees are versatile tools employed across various industries to facilitate decision-making and predictive modeling. Notable real-world applications include:\n",
        "\n",
        "*  Healthcare:\n",
        "\n",
        "-> Diagnosis and Treatment Planning: Decision trees assist in diagnosing diseases and formulating treatment strategies by evaluating patient data such as symptoms, medical history, and test results.\n",
        "\n",
        "*  Finance:\n",
        "\n",
        "-> Credit Scoring: Financial institutions utilize decision trees to assess the creditworthiness of applicants by analyzing factors like income, credit history, and employment status.\n",
        "\n",
        "-> Risk Assessment: Decision trees aid in evaluating financial risks, guiding investment decisions, and detecting fraudulent activities by modeling potential outcomes and their associated probabilities.\n",
        "\n",
        "\n",
        "*  Marketing:\n",
        "\n",
        "-> Customer Segmentation: Businesses apply decision trees to categorize customers based on purchasing behavior, preferences, and demographics, enabling targeted marketing campaigns.\n",
        "\n",
        "-> Churn Prediction: By analyzing customer interactions and transaction histories, decision trees help predict the likelihood of customer attrition, allowing companies to implement retention strategies.\n",
        "\n",
        "\n",
        "*  E-commerce:\n",
        "\n",
        "-> Recommendation Systems: Decision trees enhance recommendation engines by predicting products or services a customer might be interested in, based on their browsing and purchase history.\n",
        "\n",
        "*  Engineering and Manufacturing:\n",
        "\n",
        "-> Quality Control: In manufacturing, decision trees are used to identify factors leading to product defects, thereby improving quality control processes.\n"
      ],
      "metadata": {
        "id": "TNywvTtotCIc"
      }
    },
    {
      "cell_type": "markdown",
      "source": [
        "\n",
        "\n",
        "---\n",
        "\n",
        "\n",
        "\n",
        "---\n",
        "\n",
        "\n",
        "\n",
        "---\n",
        "\n",
        "\n"
      ],
      "metadata": {
        "id": "x4RxS51Qtodw"
      }
    },
    {
      "cell_type": "markdown",
      "source": [
        "# Q-16)  Write a Python program to train a Decision Tree Classifier on the Iris dataset and print the model accuracy"
      ],
      "metadata": {
        "id": "McTTxXIutwz5"
      }
    },
    {
      "cell_type": "code",
      "source": [
        "from sklearn.datasets import load_iris\n",
        "from sklearn.model_selection import train_test_split\n",
        "from sklearn.tree import DecisionTreeClassifier\n",
        "from sklearn.metrics import accuracy_score\n",
        "\n",
        "iris = load_iris()\n",
        "X = iris.data\n",
        "y = iris.target\n",
        "\n",
        "X_train, X_test, y_train, y_test = train_test_split(X, y, test_size=0.25, random_state=42)\n",
        "\n",
        "clf = DecisionTreeClassifier(random_state=1)\n",
        "clf.fit(X_train, y_train)\n",
        "\n",
        "y_pred = clf.predict(X_test)\n",
        "\n",
        "accuracy = accuracy_score(y_test, y_pred)\n",
        "print(f\"Model accuracy: {accuracy:.2f}\")\n"
      ],
      "metadata": {
        "colab": {
          "base_uri": "https://localhost:8080/"
        },
        "id": "GfT53BZIt76z",
        "outputId": "c0345f07-3d67-4988-a6b6-0bc7c4e69f11"
      },
      "execution_count": 1,
      "outputs": [
        {
          "output_type": "stream",
          "name": "stdout",
          "text": [
            "Model accuracy: 1.00\n"
          ]
        }
      ]
    },
    {
      "cell_type": "markdown",
      "source": [
        "# Q-17) Write a Python program to train a Decision Tree Classifier using Gini Impurity as the criterion and print the feature importances."
      ],
      "metadata": {
        "id": "TAcnOvxZuF88"
      }
    },
    {
      "cell_type": "code",
      "source": [
        "from sklearn.datasets import load_iris\n",
        "from sklearn.model_selection import train_test_split\n",
        "from sklearn.tree import DecisionTreeClassifier\n",
        "import pandas as pd\n",
        "import matplotlib.pyplot as plt\n",
        "\n",
        "iris = load_iris()\n",
        "X = iris.data\n",
        "y = iris.target\n",
        "feature_names = iris.feature_names\n",
        "\n",
        "X_train, X_test, y_train, y_test = train_test_split(X, y, test_size=0.25, random_state=42)\n",
        "\n",
        "clf = DecisionTreeClassifier(criterion='gini', random_state=42)\n",
        "clf.fit(X_train, y_train)\n",
        "\n",
        "feature_importances = clf.feature_importances_\n",
        "for name, importance in zip(feature_names, feature_importances):\n",
        "    print(f\"{name}: {importance:.4f}\")\n",
        "\n",
        "importance_df = pd.DataFrame({\n",
        "    'Feature': feature_names,\n",
        "    'Importance': feature_importances\n",
        "}).sort_values(by='Importance', ascending=False)\n",
        "\n",
        "plt.figure(figsize=(10, 6))\n",
        "plt.barh(importance_df['Feature'], importance_df['Importance'], color='skyblue')\n",
        "plt.xlabel('Importance')\n",
        "plt.ylabel('Feature')\n",
        "plt.title('Feature Importances in Decision Tree Classifier')\n",
        "plt.gca().invert_yaxis()\n",
        "plt.show()\n"
      ],
      "metadata": {
        "colab": {
          "base_uri": "https://localhost:8080/",
          "height": 633
        },
        "id": "KrB4X2AUuJWN",
        "outputId": "b5eabf06-2098-48c3-92d8-97d145188525"
      },
      "execution_count": 2,
      "outputs": [
        {
          "output_type": "stream",
          "name": "stdout",
          "text": [
            "sepal length (cm): 0.0000\n",
            "sepal width (cm): 0.0179\n",
            "petal length (cm): 0.8997\n",
            "petal width (cm): 0.0824\n"
          ]
        },
        {
          "output_type": "display_data",
          "data": {
            "text/plain": [
              "<Figure size 1000x600 with 1 Axes>"
            ],
            "image/png": "[encoded data removed]"
          },
          "metadata": {}
        }
      ]
    },
    {
      "cell_type": "markdown",
      "source": [
        "# Q-18) Write a Python program to train a Decision Tree Classifier using Entropy as the splitting criterion and print the model accuracy.\n"
      ],
      "metadata": {
        "id": "13pZvBUruScP"
      }
    },
    {
      "cell_type": "code",
      "source": [
        "from sklearn.datasets import load_iris\n",
        "from sklearn.model_selection import train_test_split\n",
        "from sklearn.tree import DecisionTreeClassifier\n",
        "from sklearn.metrics import accuracy_score\n",
        "\n",
        "iris = load_iris()\n",
        "X = iris.data\n",
        "y = iris.target\n",
        "\n",
        "X_train, X_test, y_train, y_test = train_test_split(X, y, test_size=0.25, random_state=42)\n",
        "\n",
        "clf = DecisionTreeClassifier(criterion='entropy', random_state=42)\n",
        "clf.fit(X_train, y_train)\n",
        "\n",
        "y_pred = clf.predict(X_test)\n",
        "\n",
        "accuracy = accuracy_score(y_test, y_pred)\n",
        "print(f\"Model accuracy: {accuracy:.2f}\")\n"
      ],
      "metadata": {
        "colab": {
          "base_uri": "https://localhost:8080/"
        },
        "id": "7iZnX6rIuWLG",
        "outputId": "0da966ee-b551-4a88-83fb-fdf6d289e40c"
      },
      "execution_count": 3,
      "outputs": [
        {
          "output_type": "stream",
          "name": "stdout",
          "text": [
            "Model accuracy: 0.97\n"
          ]
        }
      ]
    },
    {
      "cell_type": "markdown",
      "source": [
        "# Q-19) Write a Python program to train a Decision Tree Regressor on a housing dataset and evaluate using Mean Squared Error (MSE)."
      ],
      "metadata": {
        "id": "14rKKyyGusYi"
      }
    },
    {
      "cell_type": "code",
      "source": [
        "from sklearn.datasets import fetch_california_housing\n",
        "from sklearn.model_selection import train_test_split\n",
        "from sklearn.tree import DecisionTreeRegressor\n",
        "from sklearn.metrics import mean_squared_error\n",
        "\n",
        "data = fetch_california_housing()\n",
        "X = data.data\n",
        "y = data.target\n",
        "\n",
        "X_train, X_test, y_train, y_test = train_test_split(X, y, test_size=0.25, random_state=42)\n",
        "\n",
        "regressor = DecisionTreeRegressor(random_state=42)\n",
        "regressor.fit(X_train, y_train)\n",
        "y_pred = regressor.predict(X_test)\n",
        "\n",
        "mse = mean_squared_error(y_test, y_pred)\n",
        "print(f\"Mean Squared Error: {mse:.4f}\")\n"
      ],
      "metadata": {
        "colab": {
          "base_uri": "https://localhost:8080/"
        },
        "id": "g2ewybAtuzVi",
        "outputId": "a223d3bd-0e0d-4451-ec37-fae37fe4bb26"
      },
      "execution_count": 4,
      "outputs": [
        {
          "output_type": "stream",
          "name": "stdout",
          "text": [
            "Mean Squared Error: 0.5285\n"
          ]
        }
      ]
    },
    {
      "cell_type": "markdown",
      "source": [
        "# Q-20) Write a Python program to train a Decision Tree Classifier and visualize the tree using graphviz.\n"
      ],
      "metadata": {
        "id": "A8Ntr6hKu6Gb"
      }
    },
    {
      "cell_type": "code",
      "source": [
        "from sklearn.datasets import load_iris\n",
        "from sklearn.tree import DecisionTreeClassifier, export_graphviz\n",
        "import graphviz\n",
        "\n",
        "iris = load_iris()\n",
        "X, y = iris.data, iris.target\n",
        "\n",
        "clf = DecisionTreeClassifier(random_state=42)\n",
        "clf.fit(X, y)\n",
        "\n",
        "# Export the decision tree to DOT format\n",
        "dot_data = export_graphviz(clf, out_file=None,\n",
        "                           feature_names=iris.feature_names,\n",
        "                           class_names=iris.target_names,\n",
        "                           filled=True, rounded=True,\n",
        "                           special_characters=True)\n",
        "\n",
        "# Visualize the decision tree using Graphviz\n",
        "graph = graphviz.Source(dot_data)\n",
        "graph.render(\"decision_tree\")  # Saves as 'decision_tree.pdf'\n",
        "graph.view()\n"
      ],
      "metadata": {
        "colab": {
          "base_uri": "https://localhost:8080/",
          "height": 35
        },
        "id": "nSjf_6f1u75s",
        "outputId": "a3ee2396-ff7a-4cf1-ee15-b4381345b813"
      },
      "execution_count": 5,
      "outputs": [
        {
          "output_type": "execute_result",
          "data": {
            "text/plain": [
              "'decision_tree.pdf'"
            ],
            "application/vnd.google.colaboratory.intrinsic+json": {
              "type": "string"
            }
          },
          "metadata": {},
          "execution_count": 5
        }
      ]
    },
    {
      "cell_type": "markdown",
      "source": [
        "# Q-21) Write a Python program to train a Decision Tree Classifier with a maximum depth of 3 and compare its accuracy with a fully grown tree."
      ],
      "metadata": {
        "id": "YrwwLzuowE-d"
      }
    },
    {
      "cell_type": "code",
      "source": [
        "from sklearn.datasets import load_iris\n",
        "from sklearn.model_selection import train_test_split\n",
        "from sklearn.tree import DecisionTreeClassifier\n",
        "from sklearn.metrics import accuracy_score\n",
        "\n",
        "iris = load_iris()\n",
        "X, y = iris.data, iris.target\n",
        "\n",
        "X_train, X_test, y_train, y_test = train_test_split(X, y, test_size=0.25, random_state=42)\n",
        "\n",
        "clf_depth_3 = DecisionTreeClassifier(max_depth=3, random_state=42)\n",
        "clf_depth_3.fit(X_train, y_train)\n",
        "\n",
        "y_pred_depth_3 = clf_depth_3.predict(X_test)\n",
        "accuracy_depth_3 = accuracy_score(y_test, y_pred_depth_3)\n",
        "print(f\"Accuracy with max_depth=3: {accuracy_depth_3:.2f}\")\n",
        "\n",
        "clf_full = DecisionTreeClassifier(random_state=42)\n",
        "clf_full.fit(X_train, y_train)\n",
        "\n",
        "y_pred_full = clf_full.predict(X_test)\n",
        "accuracy_full = accuracy_score(y_test, y_pred_full)\n",
        "print(f\"Accuracy with fully grown tree: {accuracy_full:.2f}\")\n"
      ],
      "metadata": {
        "colab": {
          "base_uri": "https://localhost:8080/"
        },
        "id": "j96a_xWNwBm9",
        "outputId": "556f4dce-73bf-48b3-b5c5-199467a74cd0"
      },
      "execution_count": 6,
      "outputs": [
        {
          "output_type": "stream",
          "name": "stdout",
          "text": [
            "Accuracy with max_depth=3: 1.00\n",
            "Accuracy with fully grown tree: 1.00\n"
          ]
        }
      ]
    },
    {
      "cell_type": "markdown",
      "source": [
        "# Q-22) Write a Python program to train a Decision Tree Classifier using min_samples_split=5 and compare its accuracy with a default tree."
      ],
      "metadata": {
        "id": "bFXRvUSzwQdX"
      }
    },
    {
      "cell_type": "code",
      "source": [
        "from sklearn.datasets import load_iris\n",
        "from sklearn.model_selection import train_test_split\n",
        "from sklearn.tree import DecisionTreeClassifier\n",
        "from sklearn.metrics import accuracy_score\n",
        "\n",
        "iris = load_iris()\n",
        "X, y = iris.data, iris.target\n",
        "\n",
        "X_train, X_test, y_train, y_test = train_test_split(X, y, test_size=0.25, random_state=42)\n",
        "\n",
        "clf_min_samples_split = DecisionTreeClassifier(min_samples_split=5, random_state=42)\n",
        "clf_min_samples_split.fit(X_train, y_train)\n",
        "\n",
        "y_pred_min_samples_split = clf_min_samples_split.predict(X_test)\n",
        "accuracy_min_samples_split = accuracy_score(y_test, y_pred_min_samples_split)\n",
        "print(f\"Accuracy with min_samples_split=5: {accuracy_min_samples_split:.2f}\")\n",
        "\n",
        "clf_default = DecisionTreeClassifier(random_state=42)\n",
        "clf_default.fit(X_train, y_train)\n",
        "\n",
        "y_pred_default = clf_default.predict(X_test)\n",
        "accuracy_default = accuracy_score(y_test, y_pred_default)\n",
        "print(f\"Accuracy with default parameters: {accuracy_default:.2f}\")\n"
      ],
      "metadata": {
        "colab": {
          "base_uri": "https://localhost:8080/"
        },
        "id": "7pEePVflwV1J",
        "outputId": "2fef4684-6f28-42ca-9259-2d4339708e18"
      },
      "execution_count": 7,
      "outputs": [
        {
          "output_type": "stream",
          "name": "stdout",
          "text": [
            "Accuracy with min_samples_split=5: 1.00\n",
            "Accuracy with default parameters: 1.00\n"
          ]
        }
      ]
    },
    {
      "cell_type": "markdown",
      "source": [
        "# Q-23) Write a Python program to apply feature scaling before training a Decision Tree Classifier and compare its accuracy with unscaled data."
      ],
      "metadata": {
        "id": "727c_1gswdRI"
      }
    },
    {
      "cell_type": "code",
      "source": [
        "from sklearn.datasets import load_iris\n",
        "from sklearn.model_selection import train_test_split\n",
        "from sklearn.tree import DecisionTreeClassifier\n",
        "from sklearn.preprocessing import StandardScaler\n",
        "from sklearn.metrics import accuracy_score\n",
        "\n",
        "iris = load_iris()\n",
        "X, y = iris.data, iris.target\n",
        "\n",
        "X_train, X_test, y_train, y_test = train_test_split(X, y, test_size=0.25, random_state=42)\n",
        "\n",
        "clf_unscaled = DecisionTreeClassifier(random_state=42)\n",
        "clf_unscaled.fit(X_train, y_train)\n",
        "\n",
        "y_pred_unscaled = clf_unscaled.predict(X_test)\n",
        "accuracy_unscaled = accuracy_score(y_test, y_pred_unscaled)\n",
        "print(f\"Accuracy with unscaled data: {accuracy_unscaled:.2f}\")\n",
        "\n",
        "scaler = StandardScaler()\n",
        "X_train_scaled = scaler.fit_transform(X_train)\n",
        "X_test_scaled = scaler.transform(X_test)\n",
        "\n",
        "clf_scaled = DecisionTreeClassifier(random_state=42)\n",
        "clf_scaled.fit(X_train_scaled, y_train)\n",
        "\n",
        "y_pred_scaled = clf_scaled.predict(X_test_scaled)\n",
        "accuracy_scaled = accuracy_score(y_test, y_pred_scaled)\n",
        "print(f\"Accuracy with scaled data: {accuracy_scaled:.2f}\")\n"
      ],
      "metadata": {
        "colab": {
          "base_uri": "https://localhost:8080/"
        },
        "id": "0FFtBbXNwhTk",
        "outputId": "d0a81076-ad62-4543-d46d-3d052dc229c3"
      },
      "execution_count": 8,
      "outputs": [
        {
          "output_type": "stream",
          "name": "stdout",
          "text": [
            "Accuracy with unscaled data: 1.00\n",
            "Accuracy with scaled data: 1.00\n"
          ]
        }
      ]
    },
    {
      "cell_type": "markdown",
      "source": [
        "# Q-24) Write a Python program to train a Decision Tree Classifier using One-vs-Rest (OvR) strategy for multiclass classification."
      ],
      "metadata": {
        "id": "ZwGgniazwnlj"
      }
    },
    {
      "cell_type": "code",
      "source": [
        "from sklearn.datasets import load_iris\n",
        "from sklearn.model_selection import train_test_split\n",
        "from sklearn.tree import DecisionTreeClassifier\n",
        "from sklearn.multiclass import OneVsRestClassifier\n",
        "from sklearn.metrics import accuracy_score\n",
        "\n",
        "iris = load_iris()\n",
        "X, y = iris.data, iris.target\n",
        "\n",
        "X_train, X_test, y_train, y_test = train_test_split(X, y, test_size=0.25, random_state=42)\n",
        "\n",
        "base_clf = DecisionTreeClassifier(random_state=42)\n",
        "\n",
        "ovr_clf = OneVsRestClassifier(base_clf)\n",
        "ovr_clf.fit(X_train, y_train)\n",
        "\n",
        "y_pred = ovr_clf.predict(X_test)\n",
        "\n",
        "accuracy = accuracy_score(y_test, y_pred)\n",
        "print(f\"Accuracy: {accuracy:.2f}\")\n"
      ],
      "metadata": {
        "colab": {
          "base_uri": "https://localhost:8080/"
        },
        "id": "10m5dQk_wrYK",
        "outputId": "c8c22a01-6e04-455c-e929-11402e4c5d26"
      },
      "execution_count": 10,
      "outputs": [
        {
          "output_type": "stream",
          "name": "stdout",
          "text": [
            "Accuracy: 1.00\n"
          ]
        }
      ]
    },
    {
      "cell_type": "markdown",
      "source": [
        "# Q-25) Write a Python program to train a Decision Tree Classifier and display the feature importance scores.\n",
        "\n"
      ],
      "metadata": {
        "id": "hFMjGPX_wzqk"
      }
    },
    {
      "cell_type": "code",
      "source": [
        "import numpy as np\n",
        "import pandas as pd\n",
        "import matplotlib.pyplot as plt\n",
        "import seaborn as sns\n",
        "from sklearn.datasets import load_iris\n",
        "from sklearn.model_selection import train_test_split\n",
        "from sklearn.tree import DecisionTreeClassifier\n",
        "\n",
        "data = load_iris()\n",
        "X = pd.DataFrame(data.data, columns=data.feature_names)\n",
        "y = pd.Series(data.target, name='target')\n",
        "\n",
        "X_train, X_test, y_train, y_test = train_test_split(X, y, test_size=0.3, random_state=42)\n",
        "\n",
        "clf = DecisionTreeClassifier(random_state=42)\n",
        "clf.fit(X_train, y_train)\n",
        "\n",
        "feature_importances = clf.feature_importances_\n",
        "importance_df = pd.DataFrame({\n",
        "    'Feature': X.columns,\n",
        "    'Importance': feature_importances\n",
        "}).sort_values(by='Importance', ascending=False)\n",
        "\n",
        "print(\"Feature Importance Scores:\")\n",
        "print(importance_df)\n",
        "\n",
        "plt.figure(figsize=(10, 6))\n",
        "sns.barplot(x='Importance', y='Feature', data=importance_df)\n",
        "plt.title('Feature Importances')\n",
        "plt.xlabel('Importance Score')\n",
        "plt.ylabel('Features')\n",
        "plt.show()\n"
      ],
      "metadata": {
        "colab": {
          "base_uri": "https://localhost:8080/",
          "height": 668
        },
        "id": "Ln2o0nfYw1j8",
        "outputId": "7bf2e30e-89bf-4e5d-d24f-eb8c594ed725"
      },
      "execution_count": 11,
      "outputs": [
        {
          "output_type": "stream",
          "name": "stdout",
          "text": [
            "Feature Importance Scores:\n",
            "             Feature  Importance\n",
            "2  petal length (cm)    0.893264\n",
            "3   petal width (cm)    0.087626\n",
            "1   sepal width (cm)    0.019110\n",
            "0  sepal length (cm)    0.000000\n"
          ]
        },
        {
          "output_type": "display_data",
          "data": {
            "text/plain": [
              "<Figure size 1000x600 with 1 Axes>"
            ],
            "image/png": "[encoded data removed]"
          },
          "metadata": {}
        }
      ]
    },
    {
      "cell_type": "markdown",
      "source": [
        "# Q-26) Write a Python program to train a Decision Tree Regressor with max_depth=5 and compare its performance with an unrestricted tree."
      ],
      "metadata": {
        "id": "gZTzogJiyly7"
      }
    },
    {
      "cell_type": "code",
      "source": [
        "import numpy as np\n",
        "import pandas as pd\n",
        "import matplotlib.pyplot as plt\n",
        "from sklearn.datasets import fetch_california_housing\n",
        "from sklearn.model_selection import train_test_split\n",
        "from sklearn.tree import DecisionTreeRegressor\n",
        "from sklearn.metrics import mean_squared_error\n",
        "\n",
        "data = fetch_california_housing()\n",
        "X = pd.DataFrame(data.data, columns=data.feature_names)\n",
        "y = pd.Series(data.target, name='target')\n",
        "\n",
        "X_train, X_test, y_train, y_test = train_test_split(X, y, test_size=0.3, random_state=42)\n",
        "\n",
        "tree_depth_5 = DecisionTreeRegressor(max_depth=5, random_state=42)\n",
        "tree_depth_5.fit(X_train, y_train)\n",
        "\n",
        "y_pred_train_depth_5 = tree_depth_5.predict(X_train)\n",
        "y_pred_test_depth_5 = tree_depth_5.predict(X_test)\n",
        "mse_train_depth_5 = mean_squared_error(y_train, y_pred_train_depth_5)\n",
        "mse_test_depth_5 = mean_squared_error(y_test, y_pred_test_depth_5)\n",
        "\n",
        "# Initialize and train the unrestricted Decision Tree Regressor\n",
        "tree_unrestricted = DecisionTreeRegressor(random_state=42)\n",
        "tree_unrestricted.fit(X_train, y_train)\n",
        "\n",
        "# Predict and evaluate the unrestricted model\n",
        "y_pred_train_unrestricted = tree_unrestricted.predict(X_train)\n",
        "y_pred_test_unrestricted = tree_unrestricted.predict(X_test)\n",
        "mse_train_unrestricted = mean_squared_error(y_train, y_pred_train_unrestricted)\n",
        "mse_test_unrestricted = mean_squared_error(y_test, y_pred_test_unrestricted)\n",
        "\n",
        "# Display the results\n",
        "print(f\"Decision Tree Regressor with max_depth=5:\")\n",
        "print(f\"Training MSE: {mse_train_depth_5:.4f}\")\n",
        "print(f\"Testing MSE: {mse_test_depth_5:.4f}\\n\")\n",
        "\n",
        "print(f\"Unrestricted Decision Tree Regressor:\")\n",
        "print(f\"Training MSE: {mse_train_unrestricted:.4f}\")\n",
        "print(f\"Testing MSE: {mse_test_unrestricted:.4f}\")\n",
        "\n",
        "# Visualize the performance comparison\n",
        "labels = ['Training MSE', 'Testing MSE']\n",
        "depth_5_mse = [mse_train_depth_5, mse_test_depth_5]\n",
        "unrestricted_mse = [mse_train_unrestricted, mse_test_unrestricted]\n",
        "\n",
        "x = np.arange(len(labels))\n",
        "width = 0.35\n",
        "\n",
        "fig, ax = plt.subplots(figsize=(8, 6))\n",
        "rects1 = ax.bar(x - width/2, depth_5_mse, width, label='max_depth=5')\n",
        "rects2 = ax.bar(x + width/2, unrestricted_mse, width, label='Unrestricted')\n",
        "\n",
        "ax.set_xlabel('Dataset')\n",
        "ax.set_ylabel('Mean Squared Error')\n",
        "ax.set_title('Performance Comparison of Decision Tree Regressors')\n",
        "ax.set_xticks(x)\n",
        "ax.set_xticklabels(labels)\n",
        "ax.legend()\n",
        "\n",
        "fig.tight_layout()\n",
        "plt.show()\n"
      ],
      "metadata": {
        "colab": {
          "base_uri": "https://localhost:8080/",
          "height": 729
        },
        "id": "0cQej-ldyoVr",
        "outputId": "237a86c1-1279-4efa-99dd-d928a128fa64"
      },
      "execution_count": 12,
      "outputs": [
        {
          "output_type": "stream",
          "name": "stdout",
          "text": [
            "Decision Tree Regressor with max_depth=5:\n",
            "Training MSE: 0.4928\n",
            "Testing MSE: 0.5211\n",
            "\n",
            "Unrestricted Decision Tree Regressor:\n",
            "Training MSE: 0.0000\n",
            "Testing MSE: 0.5280\n"
          ]
        },
        {
          "output_type": "display_data",
          "data": {
            "text/plain": [
              "<Figure size 800x600 with 1 Axes>"
            ],
            "image/png": "[encoded data removed]"
          },
          "metadata": {}
        }
      ]
    },
    {
      "cell_type": "markdown",
      "source": [
        "# Q-27) Write a Python program to train a Decision Tree Classifier, apply Cost Complexity Pruning (CCP), and visualize its effect on accuracy."
      ],
      "metadata": {
        "id": "CP2vvU6cyyFM"
      }
    },
    {
      "cell_type": "code",
      "source": [
        "import numpy as np\n",
        "import pandas as pd\n",
        "import matplotlib.pyplot as plt\n",
        "from sklearn.datasets import load_iris\n",
        "from sklearn.model_selection import train_test_split\n",
        "from sklearn.tree import DecisionTreeClassifier\n",
        "from sklearn.metrics import accuracy_score\n",
        "\n",
        "data = load_iris()\n",
        "X = pd.DataFrame(data.data, columns=data.feature_names)\n",
        "y = pd.Series(data.target, name='target')\n",
        "\n",
        "X_train, X_test, y_train, y_test = train_test_split(X, y, test_size=0.3, random_state=42)\n",
        "\n",
        "clf_unpruned = DecisionTreeClassifier(random_state=42)\n",
        "clf_unpruned.fit(X_train, y_train)\n",
        "\n",
        "y_pred_train_unpruned = clf_unpruned.predict(X_train)\n",
        "y_pred_test_unpruned = clf_unpruned.predict(X_test)\n",
        "acc_train_unpruned = accuracy_score(y_train, y_pred_train_unpruned)\n",
        "acc_test_unpruned = accuracy_score(y_test, y_pred_test_unpruned)\n",
        "\n",
        "print(f\"Unpruned Decision Tree Classifier:\")\n",
        "print(f\"Training Accuracy: {acc_train_unpruned:.4f}\")\n",
        "print(f\"Testing Accuracy: {acc_test_unpruned:.4f}\\n\")\n",
        "\n",
        "path = clf_unpruned.cost_complexity_pruning_path(X_train, y_train)\n",
        "ccp_alphas, impurities = path.ccp_alphas, path.impurities\n",
        "\n",
        "clfs = []\n",
        "for ccp_alpha in ccp_alphas:\n",
        "    clf = DecisionTreeClassifier(random_state=42, ccp_alpha=ccp_alpha)\n",
        "    clf.fit(X_train, y_train)\n",
        "    clfs.append(clf)\n",
        "\n",
        "clfs = clfs[:-1]\n",
        "ccp_alphas = ccp_alphas[:-1]\n",
        "\n",
        "# Evaluate the accuracy of each pruned tree\n",
        "train_acc = [accuracy_score(y_train, clf.predict(X_train)) for clf in clfs]\n",
        "test_acc = [accuracy_score(y_test, clf.predict(X_test)) for clf in clfs]\n",
        "\n",
        "# Visualize the effect of pruning on accuracy\n",
        "plt.figure(figsize=(10, 6))\n",
        "plt.plot(ccp_alphas, train_acc, marker='o', label='Train Accuracy', drawstyle=\"steps-post\")\n",
        "plt.plot(ccp_alphas, test_acc, marker='o', label='Test Accuracy', drawstyle=\"steps-post\")\n",
        "plt.xlabel('Effective Alpha')\n",
        "plt.ylabel('Accuracy')\n",
        "plt.title('Accuracy vs Effective Alpha for Training and Testing Sets')\n",
        "plt.legend()\n",
        "plt.grid()\n",
        "plt.show()\n"
      ],
      "metadata": {
        "colab": {
          "base_uri": "https://localhost:8080/",
          "height": 633
        },
        "id": "tHRP57V6y03-",
        "outputId": "e07bcaa5-d5cb-4af3-b998-6fdcbafeb04c"
      },
      "execution_count": 13,
      "outputs": [
        {
          "output_type": "stream",
          "name": "stdout",
          "text": [
            "Unpruned Decision Tree Classifier:\n",
            "Training Accuracy: 1.0000\n",
            "Testing Accuracy: 1.0000\n",
            "\n"
          ]
        },
        {
          "output_type": "display_data",
          "data": {
            "text/plain": [
              "<Figure size 1000x600 with 1 Axes>"
            ],
            "image/png": "[encoded data removed]"
          },
          "metadata": {}
        }
      ]
    },
    {
      "cell_type": "markdown",
      "source": [
        "# Q-28) Write a Python program to train a Decision Tree Classifier and evaluate its performance using Precision, Recall, and F1-Score."
      ],
      "metadata": {
        "id": "nz25iH9YzBmp"
      }
    },
    {
      "cell_type": "code",
      "source": [
        "import numpy as np\n",
        "import pandas as pd\n",
        "from sklearn.datasets import load_iris\n",
        "from sklearn.model_selection import train_test_split\n",
        "from sklearn.tree import DecisionTreeClassifier\n",
        "from sklearn.metrics import classification_report\n",
        "\n",
        "data = load_iris()\n",
        "X = pd.DataFrame(data.data, columns=data.feature_names)\n",
        "y = pd.Series(data.target, name='target')\n",
        "\n",
        "X_train, X_test, y_train, y_test = train_test_split(X, y, test_size=0.3, random_state=42)\n",
        "\n",
        "clf = DecisionTreeClassifier(random_state=42)\n",
        "clf.fit(X_train, y_train)\n",
        "\n",
        "y_pred = clf.predict(X_test)\n",
        "\n",
        "report = classification_report(y_test, y_pred, target_names=data.target_names)\n",
        "print(\"Classification Report:\")\n",
        "print(report)\n"
      ],
      "metadata": {
        "colab": {
          "base_uri": "https://localhost:8080/"
        },
        "id": "FKASMCzkzEP3",
        "outputId": "db9501e0-f1f6-4480-c606-455c1e791c91"
      },
      "execution_count": 14,
      "outputs": [
        {
          "output_type": "stream",
          "name": "stdout",
          "text": [
            "Classification Report:\n",
            "              precision    recall  f1-score   support\n",
            "\n",
            "      setosa       1.00      1.00      1.00        19\n",
            "  versicolor       1.00      1.00      1.00        13\n",
            "   virginica       1.00      1.00      1.00        13\n",
            "\n",
            "    accuracy                           1.00        45\n",
            "   macro avg       1.00      1.00      1.00        45\n",
            "weighted avg       1.00      1.00      1.00        45\n",
            "\n"
          ]
        }
      ]
    },
    {
      "cell_type": "markdown",
      "source": [
        "# Q-29) Write a Python program to train a Decision Tree Classifier and visualize the confusion matrix using seaborn."
      ],
      "metadata": {
        "id": "U4-uBLomzN0I"
      }
    },
    {
      "cell_type": "code",
      "source": [
        "import numpy as np\n",
        "import pandas as pd\n",
        "import matplotlib.pyplot as plt\n",
        "import seaborn as sns\n",
        "from sklearn.datasets import load_iris\n",
        "from sklearn.model_selection import train_test_split\n",
        "from sklearn.tree import DecisionTreeClassifier\n",
        "from sklearn.metrics import confusion_matrix, ConfusionMatrixDisplay\n",
        "\n",
        "data = load_iris()\n",
        "X = pd.DataFrame(data.data, columns=data.feature_names)\n",
        "y = pd.Series(data.target, name='target')\n",
        "\n",
        "X_train, X_test, y_train, y_test = train_test_split(X, y, test_size=0.3, random_state=42)\n",
        "\n",
        "clf = DecisionTreeClassifier(random_state=42)\n",
        "clf.fit(X_train, y_train)\n",
        "\n",
        "y_pred = clf.predict(X_test)\n",
        "\n",
        "cm = confusion_matrix(y_test, y_pred)\n",
        "\n",
        "cm_df = pd.DataFrame(cm, index=data.target_names, columns=data.target_names)\n",
        "\n",
        "plt.figure(figsize=(8, 6))\n",
        "sns.heatmap(cm_df, annot=True, fmt='d', cmap='Blues', cbar=False)\n",
        "plt.title('Confusion Matrix')\n",
        "plt.xlabel('Predicted Labels')\n",
        "plt.ylabel('True Labels')\n",
        "plt.show()\n"
      ],
      "metadata": {
        "colab": {
          "base_uri": "https://localhost:8080/",
          "height": 564
        },
        "id": "dVlLLIl1zPno",
        "outputId": "d4c90395-5648-4ec9-9dec-d85c097521d8"
      },
      "execution_count": 15,
      "outputs": [
        {
          "output_type": "display_data",
          "data": {
            "text/plain": [
              "<Figure size 800x600 with 1 Axes>"
            ],
            "image/png": "[encoded data removed]"
          },
          "metadata": {}
        }
      ]
    },
    {
      "cell_type": "markdown",
      "source": [
        "# Q-30) Write a Python program to train a Decision Tree Classifier and use GridSearchCV to find the optimal values for max_depth and min_samples_split."
      ],
      "metadata": {
        "id": "EZ20NeztzazS"
      }
    },
    {
      "cell_type": "code",
      "source": [
        "import numpy as np\n",
        "import pandas as pd\n",
        "from sklearn.datasets import load_iris\n",
        "from sklearn.model_selection import train_test_split, GridSearchCV\n",
        "from sklearn.tree import DecisionTreeClassifier\n",
        "from sklearn.metrics import classification_report\n",
        "\n",
        "data = load_iris()\n",
        "X = pd.DataFrame(data.data, columns=data.feature_names)\n",
        "y = pd.Series(data.target, name='target')\n",
        "\n",
        "X_train, X_test, y_train, y_test = train_test_split(X, y, test_size=0.3, random_state=42)\n",
        "\n",
        "clf = DecisionTreeClassifier(random_state=42)\n",
        "\n",
        "param_grid = {\n",
        "    'max_depth': range(1, 11),\n",
        "    'min_samples_split': range(2, 11)\n",
        "}\n",
        "\n",
        "grid_search = GridSearchCV(estimator=clf, param_grid=param_grid, cv=5, n_jobs=-1, verbose=1)\n",
        "\n",
        "grid_search.fit(X_train, y_train)\n",
        "\n",
        "best_params = grid_search.best_params_\n",
        "best_estimator = grid_search.best_estimator_\n",
        "\n",
        "print(f\"Best Parameters: {best_params}\")\n",
        "\n",
        "# Evaluate the best estimator on the test set\n",
        "y_pred = best_estimator.predict(X_test)\n",
        "report = classification_report(y_test, y_pred, target_names=data.target_names)\n",
        "print(\"Classification Report for Best Estimator:\")\n",
        "print(report)\n"
      ],
      "metadata": {
        "colab": {
          "base_uri": "https://localhost:8080/"
        },
        "id": "YHmaURFwzdVV",
        "outputId": "9fef0c55-b9a6-4eea-8a71-91dca923f06d"
      },
      "execution_count": 16,
      "outputs": [
        {
          "output_type": "stream",
          "name": "stdout",
          "text": [
            "Fitting 5 folds for each of 90 candidates, totalling 450 fits\n",
            "Best Parameters: {'max_depth': 4, 'min_samples_split': 6}\n",
            "Classification Report for Best Estimator:\n",
            "              precision    recall  f1-score   support\n",
            "\n",
            "      setosa       1.00      1.00      1.00        19\n",
            "  versicolor       1.00      1.00      1.00        13\n",
            "   virginica       1.00      1.00      1.00        13\n",
            "\n",
            "    accuracy                           1.00        45\n",
            "   macro avg       1.00      1.00      1.00        45\n",
            "weighted avg       1.00      1.00      1.00        45\n",
            "\n"
          ]
        }
      ]
    }
  ]
}