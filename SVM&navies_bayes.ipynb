{
  "nbformat": 4,
  "nbformat_minor": 0,
  "metadata": {
    "colab": {
      "provenance": []
    },
    "kernelspec": {
      "name": "python3",
      "display_name": "Python 3"
    },
    "language_info": {
      "name": "python"
    }
  },
  "cells": [
    {
      "cell_type": "markdown",
      "source": [
        "# Q-1) What is a Support Vector Machine (SVM)?\n",
        "\n",
        "Ans) ​A Support Vector Machine (SVM) is a supervised machine learning algorithm used for classification and regression tasks.\n",
        "\n",
        "-> It works by finding the optimal hyperplane that best separates data points of different classes in an N-dimensional space.\n",
        "\n",
        "-> This hyperplane is chosen to maximize the margin, which is the distance between the hyperplane and the nearest data points from each class. ​\n",
        "\n",
        "\n",
        "-> In cases where data are not linearly separable, SVMs employ a technique called the \"kernel trick\" to transform the input data into a higher-dimensional space.\n",
        "\n",
        "-> This transformation allows the algorithm to find a linear separator in this new space, effectively enabling it to handle complex, non-linear relationships within the data. ​\n",
        "\n",
        "\n",
        "-> SVMs are particularly effective in high-dimensional spaces and are versatile, being applicable to both classification and regression problems.\n",
        "\n",
        "-> They are also memory efficient, as they utilize a subset of the training data—known as support vectors—in the decision-making process.\n"
      ],
      "metadata": {
        "id": "AlSRZYKEKXmx"
      }
    },
    {
      "cell_type": "markdown",
      "source": [
        "# Q-2)  What is the difference between Hard Margin and Soft Margin SVM?\n",
        "\n",
        "Ans) ​Support Vector Machines (SVMs) are supervised learning models used for classification tasks.\n",
        "\n",
        "->  A key aspect of SVMs is the concept of the margin—the distance between the decision boundary (hyperplane) and the nearest data points from each class. The treatment of this margin leads to two primary approaches:\n",
        "\n",
        "**Hard Margin SVM and Soft Margin SVM.​**\n",
        "\n",
        "* Hard Margin SVM:\n",
        "\n",
        "-> Definition: Seeks to find a hyperplane that perfectly separates the data into distinct classes without any misclassifications.​\n",
        "\n",
        "\n",
        "-> Assumptions: Assumes that the data is linearly separable, meaning there exists a clear boundary that divides the classes without overlap.​\n",
        "\n",
        "Limitations:\n",
        "\n",
        "-> Sensitivity to Outliers: Even a single outlier or mislabelled point can prevent the model from finding an appropriate separating hyperplane.​\n",
        "GeeksforGeeks\n",
        "\n",
        "Inflexibility: Not suitable for datasets where classes overlap or when perfect separation isn't possible.​\n",
        "GeeksforGeeks\n",
        "\n",
        "* Soft Margin SVM:\n",
        "\n",
        "-> Definition: Introduces flexibility by allowing some misclassifications to achieve a better balance between maximizing the margin and minimizing classification errors.​\n",
        "\n",
        "\n",
        "->  Mechanism: Slack Variables: Incorporates slack variables to permit certain data points to fall within the margin or on the wrong side of the hyperplane.​\n",
        "\n",
        "-> Regularization Parameter (C): Controls the trade-off between maximizing the margin and the penalty for misclassifications.\n",
        "\n",
        "->  A smaller C allows more misclassifications, leading to a wider margin, while a larger C restricts misclassifications, resulting in a narrower margin.​\n",
        "GeeksforGeeks\n",
        "\n"
      ],
      "metadata": {
        "id": "S-mdIe0EKufD"
      }
    },
    {
      "cell_type": "markdown",
      "source": [
        "# Q-3)  What is the mathematical intuition behind SVM?\n",
        "\n",
        "Ans) ​Support Vector Machines (SVMs) are supervised learning models used for classification and regression tasks. At their core, SVMs aim to find the optimal hyperplane that separates data points of different classes with the maximum margin.\n",
        "\n",
        "->  Understanding the mathematical intuition behind SVMs involves concepts from linear algebra and optimization.​\n",
        "\n",
        "*  Hyperplane and Decision Boundary:\n",
        "\n",
        "-> In an n-dimensional space, a hyperplane is a flat affine subspace of dimension n-1. For example, in a 2D space, a hyperplane is a line; in a 3D space, it's a plane. Mathematically, a hyperplane can be defined as:​\n",
        "\n",
        "𝑤\n",
        "⋅\n",
        "𝑥\n",
        "+\n",
        "𝑏\n",
        "=\n",
        "0\n",
        "w⋅x+b=0​\n",
        "Wikipedia – Die freie Enzyklopädie\n",
        "\n",
        "Here,\n",
        "w is the normal vector perpendicular to the hyperplane,\n",
        "x represents the data points, and\n",
        "b is the bias term.​\n",
        "\n",
        "*  Margin and Support Vectors:\n",
        "\n",
        "-> The margin is the distance between the hyperplane and the nearest data points from each class. SVM seeks to maximize this margin to ensure robustness in classification.\n",
        "\n",
        "->  The data points that lie on the boundary of this margin are called support vectors, and they are critical in defining the position and orientation of the hyperplane.​\n",
        "\n",
        "*  Optimization Objective:\n",
        "\n",
        "-> The goal is to maximize the margin, which is equivalent to minimizing the norm of the weight vector\n",
        "w. This leads to the following optimization problem:​\n",
        "\n",
        "min\n",
        "⁡\n",
        "𝑤\n",
        ",\n",
        "𝑏\n",
        "1\n",
        "2\n",
        "∥\n",
        "𝑤\n",
        "∥\n",
        "2\n"
      ],
      "metadata": {
        "id": "NTZcYBYuLWew"
      }
    },
    {
      "cell_type": "markdown",
      "source": [
        "# Q-4) What is the role of Lagrange Multipliers in SVM?\n",
        "\n",
        "Ans) ​Lagrange multipliers play a pivotal role in the optimization process of Support Vector Machines (SVMs), facilitating the transformation of a constrained optimization problem into a form that is more tractable and solvable.​\n",
        "\n",
        "* Primal Formulation:\n",
        "\n",
        "-> The primary objective in SVMs is to find the hyperplane that maximizes the margin between two classes. This is formulated as a constrained optimization problem:​\n",
        "\n",
        "min\n",
        "⁡\n",
        "𝑤\n",
        ",\n",
        "𝑏\n",
        "1\n",
        "2\n",
        "∥\n",
        "𝑤\n",
        "∥\n",
        "2\n",
        "\n",
        "Subject to:​\n",
        "\n",
        "𝑦\n",
        "𝑖\n",
        "(\n",
        "𝑤\n",
        "⋅\n",
        "𝑥\n",
        "𝑖\n",
        "+\n",
        "𝑏\n",
        ")\n",
        "≥\n",
        "1\n",
        "∀\n",
        "𝑖\n",
        "\n",
        "\n",
        "Here,\n",
        "w is the weight vector,\n",
        "b is the bias term,\n",
        "x\n",
        "i\n",
        "  represents the input features, and\n",
        "𝑦\n",
        "𝑖\n",
        "​\n",
        "  denotes the class labels.​\n",
        "\n",
        "* Incorporation of Lagrange Multipliers:\n",
        "\n",
        "-> To handle the constraints, Lagrange multipliers\n",
        "𝛼\n",
        "𝑖\n",
        "α\n",
        "i\n",
        "​\n",
        "  are introduced, leading to the construction of the Lagrangian function:​\n",
        "\n",
        "𝐿\n",
        "(\n",
        "𝑤\n",
        ",\n",
        "𝑏\n",
        ",\n",
        "𝛼\n",
        ")\n",
        "=\n",
        "1\n",
        "2\n",
        "∥\n",
        "𝑤\n",
        "∥\n",
        "2\n",
        "−\n",
        "∑\n",
        "𝑖\n",
        "𝛼\n",
        "𝑖\n",
        "[\n",
        "𝑦\n",
        "𝑖\n",
        "(\n",
        "𝑤\n",
        "⋅\n",
        "𝑥\n",
        "𝑖\n",
        "+\n",
        "𝑏\n",
        ")\n",
        "−\n",
        "1\n",
        "]\n",
        "\n",
        "In this context,\n",
        "𝛼\n",
        "𝑖\n",
        "α\n",
        "i\n",
        "​\n",
        "  are the Lagrange multipliers associated with each constraint.​\n",
        "\n",
        "* Dual Formulation:\n",
        "\n",
        "-> By differentiating the Lagrangian with respect to\n",
        "w and\n",
        "b and setting the derivatives to zero, we derive the dual form of the problem:​\n",
        "\n",
        "max\n",
        "⁡\n",
        "𝛼\n",
        "∑\n",
        "𝑖\n",
        "𝛼\n",
        "𝑖\n",
        "−\n",
        "1\n",
        "2\n",
        "∑\n",
        "𝑖\n",
        ",\n",
        "𝑗\n",
        "𝛼\n",
        "𝑖\n",
        "𝛼\n",
        "𝑗\n",
        "𝑦\n",
        "𝑖\n",
        "𝑦\n",
        "𝑗\n",
        "(\n",
        "𝑥\n",
        "𝑖\n",
        "⋅\n",
        "𝑥\n",
        "𝑗\n",
        ")\n",
        "\n",
        "Subject to:​\n",
        "\n",
        "∑\n",
        "𝑖\n",
        "𝛼\n",
        "𝑖\n",
        "𝑦\n",
        "𝑖\n",
        "=\n",
        "0\n",
        "∑\n",
        "i\n",
        "​\n",
        " α\n",
        "i\n",
        "​\n",
        " y\n",
        "i\n",
        "​\n",
        " =0​\n",
        "\n",
        "0\n",
        "≤\n",
        "𝛼\n",
        "𝑖\n",
        "≤\n",
        "𝐶\n",
        "∀\n",
        "𝑖\n",
        "0≤α\n",
        "i\n",
        "​\n",
        " ≤C∀i​"
      ],
      "metadata": {
        "id": "m7MxeyLEMAfN"
      }
    },
    {
      "cell_type": "markdown",
      "source": [
        "# Q-5) What are Support Vectors in SVM?\n",
        "\n",
        "Ans) ​In Support Vector Machines (SVMs), support vectors are the data points that lie closest to the decision boundary, known as the hyperplane.\n",
        "\n",
        "-> These points are critical in defining the position and orientation of the hyperplane, as they directly influence its placement to maximize the margin between different classes. ​\n",
        "\n",
        "\n",
        "-> Mathematically, support vectors are the elements of the training set that, if removed, would change the position of the dividing hyperplane. They are the critical elements of the training set. ​\n",
        "\n",
        "-> In the context of SVM optimization, support vectors are those points for which the Lagrange multipliers are not zero. These points are essential in constructing the optimal hyperplane that separates the classes. ​\n",
        "\n",
        "\n",
        "-> Understanding the role of support vectors is crucial, as they are the key elements that the SVM algorithm uses to determine the optimal separating hyperplane, ensuring that the model generalizes well to unseen data."
      ],
      "metadata": {
        "id": "EPAGJTvpM-ys"
      }
    },
    {
      "cell_type": "markdown",
      "source": [
        "# Q-6) What is a Support Vector Classifier (SVC)?\n",
        "\n",
        "Ans) ​A Support Vector Classifier (SVC) is a type of Support Vector Machine (SVM) specifically designed for classification tasks.\n",
        "\n",
        "->  It aims to find the optimal hyperplane that separates data points of different classes with the maximum possible margin, ensuring robust classification. ​\n",
        "\n",
        "* Key Features of SVC:\n",
        "\n",
        "-> Linear and Non-Linear Classification: SVC can handle both linearly separable data and non-linearly separable data by employing kernel functions to map input features into higher-dimensional spaces where a linear separation is feasible. ​\n",
        "\n",
        "-> Robustness to Overfitting: By maximizing the margin between classes, SVC reduces the risk of overfitting, especially in high-dimensional spaces. ​\n",
        "\n",
        "-> Memory Efficiency: SVC utilizes a subset of the training data, known as support vectors, in the decision function, making it memory efficient"
      ],
      "metadata": {
        "id": "1LMz6T6KNdTw"
      }
    },
    {
      "cell_type": "markdown",
      "source": [
        "# Q-7) `What is a Support Vector Regressor (SVR)?\n",
        "\n",
        "Ans) ​A Support Vector Regressor (SVR) is an extension of Support Vector Machines (SVM) tailored for regression tasks, enabling the prediction of continuous numerical values rather than categorical labels.\n",
        "\n",
        "->  SVR aims to find a function that approximates the relationship between input features and continuous output values by maintaining a balance between model complexity and prediction accuracy. ​\n",
        "\n",
        "* Key Characteristics of SVR:\n",
        "\n",
        "-> ε-Insensitive Loss Function: SVR employs an ε-insensitive loss function, which defines a margin of tolerance (ε) within which errors are not penalized. This approach focuses on predictions that fall outside this margin, promoting a model that generalizes well to unseen data. ​\n",
        "\n",
        "-> Kernel Functions: Similar to SVM classifiers, SVR utilizes kernel functions (e.g., linear, polynomial, radial basis function) to handle non-linear relationships by mapping input data into higher-dimensional spaces where linear regression becomes feasible. ​\n",
        "\n",
        "-> Regularization Parameter (C): The parameter C controls the trade-off between achieving a flat regression function and minimizing the training error.\n",
        "\n",
        "->  A larger C value assigns a higher penalty to errors, leading to a more accurate model that may risk overfitting, while a smaller C encourages a smoother function that may underfit."
      ],
      "metadata": {
        "id": "VaS5Q800Nr5q"
      }
    },
    {
      "cell_type": "markdown",
      "source": [
        "# Q-8) What is the Kernel Trick in SVM?\n",
        "\n",
        "Ans) The Kernel Trick is a fundamental technique in Support Vector Machines (SVMs) that enables the algorithm to perform linear classification in a transformed feature space without explicitly computing the transformation.\n",
        "\n",
        "-> This approach allows SVMs to handle non-linearly separable data efficiently.​\n",
        "\n",
        "* Understanding the Kernel Trick:\n",
        "\n",
        "-> In SVMs, the goal is to find a hyperplane that best separates data points of different classes. However, when data is not linearly separable in the original feature space, mapping it to a higher-dimensional space can make separation possible.\n",
        "\n",
        "-> The Kernel Trick leverages kernel functions to compute the inner products in this higher-dimensional space without explicitly performing the transformation, thus reducing computational complexity. ​\n",
        "\n",
        "* Common Kernel Functions:\n",
        "\n",
        "* Linear Kernel:\n",
        "𝑘\n",
        "(\n",
        "𝑥\n",
        "𝑖\n",
        ",\n",
        "𝑥\n",
        "𝑗\n",
        ")\n",
        "=\n",
        "𝑥\n",
        "𝑖\n",
        "⋅\n",
        "𝑥\n",
        "𝑗\n",
        "\n",
        "\n",
        "* Polynomial Kernel:\n",
        "𝑘\n",
        "(\n",
        "𝑥\n",
        "𝑖\n",
        ",\n",
        "𝑥\n",
        "𝑗\n",
        ")\n",
        "=\n",
        "(\n",
        "𝑥\n",
        "𝑖\n",
        "⋅\n",
        "𝑥\n",
        "𝑗\n",
        "+\n",
        "𝑟\n",
        ")\n",
        "𝑑\n",
        "\n",
        " ​\n",
        "\n",
        "* Gaussian Radial Basis Function (RBF) Kernel:\n",
        "𝑘\n",
        "(\n",
        "𝑥\n",
        "𝑖\n",
        ",\n",
        "𝑥\n",
        "𝑗\n",
        ")\n",
        "=\n",
        "exp\n",
        "⁡\n",
        "(\n",
        "−\n",
        "𝛾\n",
        "∥\n",
        "𝑥\n",
        "𝑖\n",
        "−\n",
        "𝑥\n",
        "𝑗\n",
        "∥\n",
        "2\n",
        ")\n",
        "\n",
        "* Sigmoid Kernel:\n",
        "𝑘\n",
        "(\n",
        "𝑥\n",
        "𝑖\n",
        ",\n",
        "𝑥\n",
        "𝑗\n",
        ")\n",
        "=\n",
        "tanh\n",
        "⁡\n",
        "(\n",
        "𝜅\n",
        "𝑥\n",
        "𝑖\n",
        "⋅\n",
        "𝑥\n",
        "𝑗\n",
        "+\n",
        "𝑐\n",
        ")\n"
      ],
      "metadata": {
        "id": "YQrU6k_XOM4f"
      }
    },
    {
      "cell_type": "markdown",
      "source": [
        "# Q-9) Compare Linear Kernel, Polynomial Kernel, and RBF Kernel.\n",
        "\n",
        "Ans) ​In Support Vector Machines (SVMs), the choice of kernel function is crucial for effectively handling different data structures. Here's a comparison of three commonly used kernels: Linear, Polynomial, and Radial Basis Function (RBF).​\n",
        "\n",
        "*  Linear Kernel\n",
        "\n",
        "-> Definition: Computes the dot product between two feature vectors:\n",
        "𝐾\n",
        "(\n",
        "𝑥\n",
        "𝑖\n",
        ",\n",
        "𝑥\n",
        "𝑗\n",
        ")\n",
        "=\n",
        "𝑥\n",
        "𝑖\n",
        "⋅\n",
        "𝑥\n",
        "𝑗\n",
        "\n",
        "-> Use Case: Suitable for linearly separable data where classes can be divided by a straight line or hyperplane.​\n",
        "\n",
        "* Advantages:\n",
        "\n",
        "-> Simpler and faster to compute, making it computationally efficient.​\n",
        "\n",
        "-> Reduces the risk of overfitting in high-dimensional spaces.​\n",
        "\n",
        "* Disadvantages:\n",
        "\n",
        "-> Limited to linear relationships; may underperform with complex, non-linear data.​\n",
        "\n",
        "\n",
        "*  Polynomial Kernel\n",
        "\n",
        "-> Definition: Computes the polynomial of the dot product, allowing for curved decision boundaries:\n",
        "𝐾\n",
        "(\n",
        "𝑥\n",
        "𝑖\n",
        ",\n",
        "𝑥\n",
        "𝑗\n",
        ")\n",
        "=\n",
        "(\n",
        "𝑥\n",
        "𝑖\n",
        "⋅\n",
        "𝑥\n",
        "𝑗\n",
        "+\n",
        "𝑐\n",
        ")\n",
        "𝑑\n",
        "\n",
        " , where\n",
        "\n",
        "c is a constant and\n",
        "\n",
        "d is the degree of the polynomial.​\n",
        "\n",
        "-> Use Case: Effective for data where the relationship between classes is polynomial.​\n",
        "\n",
        "* Advantages:\n",
        "\n",
        "-> Capable of modeling non-linear relationships.​\n",
        "\n",
        "The degree\n",
        "d and constant\n",
        "c can be adjusted to fit the data complexity.​\n",
        "\n",
        "* Disadvantages:\n",
        "\n",
        "-> Higher-degree polynomials can lead to overfitting.​\n",
        "Medium\n",
        "\n",
        "-> Computationally more intensive than linear kernels.​\n",
        "\n",
        "\n",
        "*  Radial Basis Function (RBF) Kernel\n",
        "\n",
        "-> Definition: Measures similarity based on the distance between feature vectors:\n",
        "𝐾\n",
        "(\n",
        "𝑥\n",
        "𝑖\n",
        ",\n",
        "𝑥\n",
        "𝑗\n",
        ")\n",
        "=\n",
        "exp\n",
        "⁡\n",
        "(\n",
        "−\n",
        "𝛾\n",
        "∥\n",
        "𝑥\n",
        "𝑖\n",
        "−\n",
        "𝑥\n",
        "𝑗\n",
        "∥\n",
        "2\n",
        ")\n",
        "where\n",
        "γ is a parameter that defines the influence of a single training example.​\n",
        "\n",
        "-> Use Case: Suitable for data where the decision boundary is highly non-linear and complex.​\n",
        "\n",
        "* Advantages:\n",
        "\n",
        "->? Highly flexible in capturing intricate patterns in the data.​\n",
        "Medium\n",
        "\n",
        "-> Effective in scenarios where the relationship between classes is not known.​\n",
        "\n",
        "* Disadvantages:\n",
        "\n",
        "-> Requires careful tuning of the\n",
        "γ parameter to balance bias and variance.​\n",
        "\n",
        "-> Computationally more demanding, especially with large datasets.​\n",
        "\n",
        "\n"
      ],
      "metadata": {
        "id": "YEsa4e8BOsVK"
      }
    },
    {
      "cell_type": "markdown",
      "source": [
        "# Q-10) What is the effect of the C parameter in SVM?\n",
        "\n",
        "Ans) ​In Support Vector Machines (SVMs), the C parameter serves as a regularization parameter that controls the trade-off between achieving a large margin and minimizing classification errors on the training data.\n",
        "\n",
        "->  Specifically, it determines the penalty imposed on misclassified data points, thereby influencing the decision boundary's complexity.​\n",
        "\n",
        "* Impact of Different C Values:\n",
        "\n",
        "-> High C Value: Assigning a large value to C emphasizes minimizing misclassification errors, leading the SVM to select a decision boundary that correctly classifies more training examples, even if it results in a smaller margin.\n",
        "\n",
        "->  This approach can fit the training data closely but may risk overfitting, reducing the model's generalization to unseen data. ​\n",
        "\n",
        "-> Low C Value: A smaller C value allows the SVM to prioritize a larger margin, even if it means permitting some misclassifications in the training data.\n",
        "\n",
        "->  This results in a simpler, more generalized decision boundary that may perform better on new data but could underfit the training data."
      ],
      "metadata": {
        "id": "lOTxBQD3QBrF"
      }
    },
    {
      "cell_type": "markdown",
      "source": [
        "# Q-11) What is the role of the Gamma parameter in RBF Kernel SVM?\n",
        "\n",
        "Ans) In Support Vector Machines (SVMs) utilizing the Radial Basis Function (RBF) kernel, the gamma (γ) parameter plays a pivotal role in shaping the decision boundary by determining the influence range of individual training samples.\n",
        "\n",
        "->  Specifically, gamma defines how far the influence of a single training example reaches, with low values meaning 'far' and high values meaning 'close'.\n",
        "\n",
        "* Effects of Gamma Values:\n",
        "\n",
        "-> High Gamma: A high gamma value implies that the influence of each training point is confined to a small region. This leads to a more complex and wiggly decision boundary, as the model attempts to fit the training data closely.\n",
        "\n",
        "->  While this can reduce training errors, it may result in overfitting, where the model captures noise and performs poorly on unseen data. ​\n",
        "\n",
        "-> Low Gamma: Conversely, a low gamma value means that each training point's influence extends over a larger area, resulting in a smoother and less complex decision boundary.\n",
        "\n",
        "-> This can enhance the model's generalization capabilities but might lead to underfitting if the decision boundary is too simplistic to capture the underlying data patterns."
      ],
      "metadata": {
        "id": "GVc6W1EgQS7I"
      }
    },
    {
      "cell_type": "markdown",
      "source": [
        "# Q-12)  What is the Naïve Bayes classifier, and why is it called \"Naïve\"?\n",
        "\n",
        "Ans) ​A Naïve Bayes classifier is a probabilistic machine learning algorithm based on Bayes' Theorem. It's primarily used for classification tasks, such as text categorization and spam detection.\n",
        "\n",
        "-> The \"naïve\" aspect refers to its fundamental assumption: it presumes that all features in the dataset are independent of each other, given the class label. ​\n",
        "\n",
        "\n",
        "* Understanding the \"Naïve\" Assumption:\n",
        "\n",
        "-> In real-world scenarios, features often exhibit some degree of correlation. However, the Naïve Bayes classifier simplifies the modeling process by assuming feature independence.\n",
        "\n",
        "->  This simplification allows for more straightforward computations and can be effective even when the independence assumption doesn't strictly hold. ​\n",
        "MathWorks - Maker of MATLAB and Simulink\n",
        "\n",
        "* Applications:\n",
        "\n",
        "-> Despite its simplicity, the Naïve Bayes classifier performs remarkably well in various applications, including:​\n",
        "\n",
        "-> Spam Filtering: Classifying emails as spam or legitimate based on word occurrences.​\n",
        "\n",
        "-> Sentiment Analysis: Determining the sentiment of a text, such as positive or negative reviews.​\n",
        "\n",
        "-> Document Classification: Categorizing documents into predefined topics based on content."
      ],
      "metadata": {
        "id": "4mo3Cb1UQpKC"
      }
    },
    {
      "cell_type": "markdown",
      "source": [
        "# Q-13) What is Bayes’ Theorem?\n",
        "\n",
        "Ans) ​Bayes' Theorem is a fundamental principle in probability theory that describes how to update the probability of a hypothesis based on new evidence. It provides a way to revise existing predictions or theories (update probabilities) given new or additional evidence. ​\n",
        "\n",
        "* Mathematical Expression:\n",
        "\n",
        "The theorem is mathematically expressed as:​\n",
        "\n",
        "𝑃\n",
        "(\n",
        "𝐴\n",
        "∣\n",
        "𝐵\n",
        ")\n",
        "=\n",
        "𝑃\n",
        "(\n",
        "𝐵\n",
        "∣\n",
        "𝐴\n",
        ")\n",
        "×\n",
        "𝑃\n",
        "(\n",
        "𝐴\n",
        ")\n",
        "\n",
        "\n",
        "-> Bayes' Theorem allows us to update our beliefs about the likelihood of an event based on new data.\n",
        "\n",
        "->  For instance, in medical diagnostics, it helps in calculating the probability of a disease given a positive test result, considering both the accuracy of the test and the overall prevalence of the disease.​\n",
        "\n",
        "* Applications:\n",
        "\n",
        "-> Medical Diagnosis: Determining the probability of a disease given a patient's symptoms and test results.​\n",
        "\n",
        "-> Spam Filtering: Classifying emails as spam or not based on the presence of certain words.​\n",
        "\n",
        "-> Decision Making: Updating the probability of outcomes as new information becomes available."
      ],
      "metadata": {
        "id": "82b7C6nYSF-I"
      }
    },
    {
      "cell_type": "markdown",
      "source": [
        "# Q-14) Explain the differences between Gaussian Naïve Bayes, Multinomial Naïve Bayes, and Bernoulli Naïve Bayes.\n",
        "\n",
        "Ans) ​Naïve Bayes classifiers are a family of probabilistic algorithms based on Bayes' Theorem, widely used for classification tasks.\n",
        "\n",
        "->  The primary variants—Gaussian Naïve Bayes, Multinomial Naïve Bayes, and Bernoulli Naïve Bayes—differ in their assumptions about the distribution of input features and are suited to different types of data.​\n",
        "\n",
        "*  Gaussian Naïve Bayes\n",
        "\n",
        "-> Assumption: Features are continuous and follow a normal (Gaussian) distribution.​\n",
        "\n",
        "-> Usage: Suitable for datasets where features are continuous variables, such as measurements like height, weight, or temperature.​\n",
        "\n",
        "\n",
        "-> Example: Predicting whether an email is spam based on numerical features like the length of the email or the number of attachments.​\n",
        "\n",
        "*  Multinomial Naïve Bayes\n",
        "\n",
        "-> Assumption: Features are discrete and represent counts or frequencies.​\n",
        "\n",
        "-> Usage: Commonly applied in text classification problems where features correspond to the frequency of words or terms in a document.​\n",
        "\n",
        "-> Example: Classifying documents based on word counts, such as determining the topic of an article by analyzing the frequency of specific terms.​\n",
        "\n",
        "*  Bernoulli Naïve Bayes\n",
        "\n",
        "-> Assumption: Features are binary, indicating the presence or absence of a feature.​\n",
        "\n",
        "-> Usage: Ideal for situations where features are binary variables, such as the occurrence or non-occurrence of a particular word in a document.​\n",
        "\n",
        "-> Example: Spam detection based on the presence or absence of certain keywords in emails"
      ],
      "metadata": {
        "id": "pMyXWB6ySodF"
      }
    },
    {
      "cell_type": "markdown",
      "source": [
        "# Q-15) When should you use Gaussian Naïve Bayes over other variants?\n",
        "\n",
        "Ans) ​Gaussian Naïve Bayes is particularly suitable for datasets where features are continuous and follow a normal (Gaussian) distribution. This variant assumes that the likelihood of the features is Gaussian, making it ideal for continuous data. ​\n",
        "\n",
        "\n",
        "* When to Use Gaussian Naïve Bayes:\n",
        "\n",
        "-> Continuous Data: If your dataset comprises continuous features that are expected to follow a Gaussian distribution, Gaussian Naïve Bayes is appropriate.\n",
        "\n",
        "-> For example, in medical diagnosis, features like blood pressure or cholesterol levels are continuous and often normally distributed.​\n",
        "\n",
        "-> Assumption of Normality: When you have reasons to believe that the continuous features in your data are normally distributed, this variant is preferable.​\n",
        "\n",
        "-> In contrast, if your data consists of discrete counts or binary features, other variants like Multinomial or Bernoulli Naïve Bayes may be more suitable. Multinomial Naïve Bayes is designed for discrete data, particularly text data, and assumes features represent counts, like word counts.\n",
        "\n",
        "->  Bernoulli Naïve Bayes is used for binary features, modeling the presence or absence of a feature. ​\n",
        "\n",
        "-> Therefore, the choice of Naïve Bayes variant depends on the nature of your data: use Gaussian for continuous, normally distributed features; Multinomial for discrete count data; and Bernoulli for binary features."
      ],
      "metadata": {
        "id": "cuXaHbvVTFTp"
      }
    },
    {
      "cell_type": "markdown",
      "source": [
        "# Q-16)  What are the key assumptions made by Naïve Bayes?\n",
        "\n",
        "Ans) ​Naïve Bayes classifiers operate based on several key assumptions that simplify the computation of probabilities and make the model particularly efficient:​\n",
        "\n",
        "-> Conditional Independence of Features: The primary assumption is that all features are conditionally independent of each other, given the class label.\n",
        "\n",
        "->  This means that the presence or absence of a particular feature does not influence the presence or absence of any other feature within the same class.\n",
        "\n",
        "->  For example, in text classification, the occurrence of one word is assumed to be independent of the occurrence of another word, given the document's category. ​\n",
        "\n",
        "\n",
        "-> Equal Contribution of Features: Each feature is assumed to contribute equally and independently to the probability of the outcome. This implies that no single feature is considered more informative or important than another in determining the class label. ​\n",
        "\n",
        "-> Distribution of Features: Depending on the variant of Naïve Bayes being used, there are assumptions about the distribution of feature values:​\n",
        "\n",
        "-> Gaussian Naïve Bayes: Assumes that continuous features follow a normal (Gaussian) distribution.​\n",
        "\n",
        "-> Multinomial Naïve Bayes: Assumes that features represent discrete counts and follow a multinomial distribution.​\n",
        "\n",
        "-> Bernoulli Naïve Bayes: Assumes that features are binary (0 or 1), indicating the absence or presence of a feature."
      ],
      "metadata": {
        "id": "DB3tK5C9TWO6"
      }
    },
    {
      "cell_type": "markdown",
      "source": [
        "# Q-17) What are the advantages and disadvantages of Naïve Bayes?\n",
        "\n",
        "Ans) ​Naïve Bayes classifiers are popular in machine learning due to their simplicity and efficiency. However, they come with both advantages and disadvantages:​\n",
        "\n",
        "* Advantages:\n",
        "\n",
        "-> Simplicity and Ease of Implementation: Naïve Bayes is straightforward to implement, making it accessible for practitioners and suitable for quick deployment. ​\n",
        "\n",
        "-> Fast Training and Prediction: The algorithm is computationally efficient, leading to rapid training and real-time prediction capabilities. ​\n",
        "Kaggle\n",
        "\n",
        "-> Scalability: It scales effectively with the number of predictors and data points, handling large datasets without significant performance degradation. ​\n",
        "\n",
        "\n",
        "-> Performance with High-Dimensional Data: Naïve Bayes performs well with high-dimensional data, such as text classification tasks, where the number of features can be large. ​\n",
        "\n",
        "\n",
        "* Disadvantages:\n",
        "\n",
        "-> Conditional Independence Assumption: The algorithm assumes that features are conditionally independent given the class label, which is often unrealistic in real-world scenarios. This can lead to suboptimal performance when features are correlated. ​\n",
        "\n",
        "-> Zero-Frequency Problem: If a categorical feature value is not observed in the training data, the model assigns a zero probability to any instance containing that value, potentially leading to incorrect classifications.\n",
        "\n",
        "->  Techniques like Laplace smoothing are used to mitigate this issue. ​\n",
        "machinelearninginterview.com\n",
        "\n",
        "-> Sensitivity to Irrelevant Features: While Naïve Bayes can handle irrelevant features, the presence of many such features can affect the model's performance, especially if they violate the independence assumption."
      ],
      "metadata": {
        "id": "rFHrJyu1ToDf"
      }
    },
    {
      "cell_type": "markdown",
      "source": [
        "# Q-18) Why is Naïve Bayes a good choice for text classification?\n",
        "\n",
        "Ans) ​Naïve Bayes classifiers are particularly well-suited for text classification tasks due to several key factors:​\n",
        "\n",
        "-> Simplifying Assumptions: Despite the often unrealistic assumption of feature independence, Naïve Bayes classifiers perform surprisingly well in practice, especially in text classification scenarios. ​\n",
        "\n",
        "-> Efficient Computation: The simplicity of Naïve Bayes leads to efficient computation, allowing for quick training and classification, which is beneficial when working with large text datasets. ​\n",
        "\n",
        "-> Effective with High-Dimensional Data: Text data often involves high-dimensional feature spaces (e.g., large vocabularies), and Naïve Bayes can handle these effectively due to its simplicity and scalability. ​\n",
        "\n",
        "-> Robustness to Irrelevant Features: Naïve Bayes classifiers can perform well even when some features are irrelevant, which is common in text data where not all words are informative for classification."
      ],
      "metadata": {
        "id": "6HHPj4jeUoUH"
      }
    },
    {
      "cell_type": "markdown",
      "source": [
        "# Q-19) Compare SVM and Naïve Bayes for classification tasks?\n",
        "\n",
        "Ans) ​Support Vector Machines (SVM) and Naïve Bayes (NB) are two widely used classification algorithms in machine learning, each with its own strengths and weaknesses. Here's a comparative overview:​\n",
        "\n",
        "*  Assumptions and Methodology:\n",
        "\n",
        "-> Naïve Bayes (NB): Assumes that features are conditionally independent given the class label, which simplifies computations but may not hold true in all scenarios.​\n",
        "\n",
        "-> Support Vector Machine (SVM): Does not rely on probabilistic assumptions. Instead, it seeks to find the optimal hyperplane that maximizes the margin between different classes, making it effective in capturing complex relationships between features.​\n",
        "\n",
        "*  Performance and Accuracy:\n",
        "\n",
        "-> Naïve Bayes: Performs well in many applications, especially when the independence assumption approximately holds. However, its accuracy may be compromised when features are highly correlated.​\n",
        "\n",
        "-> SVM: Generally provides higher accuracy, particularly in complex classification tasks where classes are not linearly separable. Its ability to handle non-linear decision boundaries through kernel functions enhances its performance.​\n",
        "\n",
        "*  Computational Efficiency:\n",
        "\n",
        "-> Naïve Bayes: Known for its computational efficiency, with fast training and prediction times, making it suitable for large datasets and real-time applications.​\n",
        "\n",
        "-> SVM: Training can be computationally intensive, especially with large datasets, due to the complexity of optimizing the margin and selecting appropriate kernel functions.​\n",
        "\n",
        "*  Applicability to Text Classification:\n",
        "\n",
        "-> Naïve Bayes: Widely used in text classification tasks, such as spam detection and sentiment analysis, due to its simplicity and effectiveness in handling high-dimensional data.​\n",
        "\n",
        "-> SVM: Also effective in text classification, often outperforming NB in scenarios where the relationship between features is complex and non-linear.​\n",
        "\n",
        "*  Robustness to Irrelevant Features:\n",
        "\n",
        "-> Naïve Bayes: Can be sensitive to irrelevant features, which may affect its performance, especially if they violate the independence assumption.​\n",
        "\n",
        "-> SVM: More robust to irrelevant features due to its focus on maximizing the margin, which inherently reduces the impact of non-informative features.​\n",
        "\n",
        "*  Interpretability:\n",
        "\n",
        "-> Naïve Bayes: Offers probabilistic outputs that are straightforward to interpret, providing clear insights into the likelihood of class membership.​\n",
        "\n",
        "-> SVM: While effective, the decision boundaries and the influence of individual features are less interpretable compared to NB.​\n",
        "\n",
        "*  Hyperparameter Tuning:\n",
        "\n",
        "-> Naïve Bayes: Requires minimal hyperparameter tuning, which simplifies the modeling process.​\n",
        "\n",
        "SVM: Involves selecting appropriate kernel functions and tuning parameters like the regularization term (C) and kernel-specific parameters, which can be complex and time-consuming.​\n",
        "\n",
        "8. Handling of Non-Linearity:\n",
        "\n",
        "-> Naïve Bayes: Assumes linear decision boundaries due to the independence assumption.​\n",
        "\n",
        "-> SVM: Capable of handling non-linear decision boundaries through the use of kernel functions, enhancing its flexibility in modeling complex data structures."
      ],
      "metadata": {
        "id": "v9QKuPwPU06Q"
      }
    },
    {
      "cell_type": "markdown",
      "source": [
        "# Q-20)  How does Laplace Smoothing help in Naïve Bayes?\n",
        "\n",
        "Ans) ​In Naïve Bayes classification, Laplace smoothing, also known as additive smoothing, is a technique used to address the issue of zero probabilities for unseen features in the training data.\n",
        "\n",
        "-> This situation arises when a particular feature does not appear in the training dataset for a given class, leading the model to assign a zero probability to any instance containing that feature, which can severely affect classification performance.​\n",
        "\n",
        "* How Laplace Smoothing Works:\n",
        "\n",
        "-> Laplace smoothing adjusts the estimated probabilities to ensure that no probability is zero, even for unseen features.\n",
        "\n",
        "->  This is achieved by adding a small constant value, typically 1, to each feature count. The adjusted probability estimate for a feature\n",
        "\n",
        "* Benefits of Laplace Smoothing:\n",
        "\n",
        "-> Prevents Zero Probabilities: By ensuring that all feature probabilities are non-zero, Laplace smoothing prevents the model from assigning zero probability to unseen features, thereby avoiding the complete nullification of the posterior probability for instances containing such features.​\n",
        "\n",
        "-> Improves Model Robustness: Smoothing leads to more reliable probability estimates, especially in cases where the training data is sparse or when dealing with rare features."
      ],
      "metadata": {
        "id": "1LEF2tp8Vsq4"
      }
    },
    {
      "cell_type": "markdown",
      "source": [
        "# Q-21)  Write a Python program to train an SVM Classifier on the Iris dataset and evaluate accuracy."
      ],
      "metadata": {
        "id": "sB85Qa0OXdse"
      }
    },
    {
      "cell_type": "code",
      "source": [
        "from sklearn import datasets\n",
        "from sklearn.model_selection import train_test_split\n",
        "from sklearn.svm import SVC\n",
        "from sklearn.metrics import accuracy_score, classification_report\n",
        "\n",
        "iris = datasets.load_iris()\n",
        "X = iris.data\n",
        "y = iris.target\n",
        "\n",
        "X_train, X_test, y_train, y_test = train_test_split(X, y, test_size=0.2, random_state=42)\n",
        "\n",
        "svm_classifier = SVC(kernel='linear', C=1.0, random_state=42)\n",
        "svm_classifier.fit(X_train, y_train)\n",
        "\n",
        "y_pred = svm_classifier.predict(X_test)\n",
        "\n",
        "accuracy = accuracy_score(y_test, y_pred)\n",
        "print(f'Accuracy: {accuracy:.2f}')\n",
        "\n",
        "print('Classification Report:')\n",
        "print(classification_report(y_test, y_pred, target_names=iris.target_names))\n",
        "\n"
      ],
      "metadata": {
        "colab": {
          "base_uri": "https://localhost:8080/"
        },
        "id": "SQyWOWT7Xgf1",
        "outputId": "476281e7-d266-48a8-a60e-0a5c60fccd60"
      },
      "execution_count": 1,
      "outputs": [
        {
          "output_type": "stream",
          "name": "stdout",
          "text": [
            "Accuracy: 1.00\n",
            "Classification Report:\n",
            "              precision    recall  f1-score   support\n",
            "\n",
            "      setosa       1.00      1.00      1.00        10\n",
            "  versicolor       1.00      1.00      1.00         9\n",
            "   virginica       1.00      1.00      1.00        11\n",
            "\n",
            "    accuracy                           1.00        30\n",
            "   macro avg       1.00      1.00      1.00        30\n",
            "weighted avg       1.00      1.00      1.00        30\n",
            "\n"
          ]
        }
      ]
    },
    {
      "cell_type": "markdown",
      "source": [
        "# Q-22)  Write a Python program to train two SVM classifiers with Linear and RBF kernels on the Wine dataset, then compare their accuracies."
      ],
      "metadata": {
        "id": "EUYLwTd4YEST"
      }
    },
    {
      "cell_type": "code",
      "source": [
        "import numpy as np\n",
        "import matplotlib.pyplot as plt\n",
        "import seaborn as sns\n",
        "from sklearn import datasets\n",
        "from sklearn.model_selection import train_test_split\n",
        "from sklearn.preprocessing import StandardScaler\n",
        "from sklearn.svm import SVC\n",
        "from sklearn.metrics import accuracy_score, classification_report, confusion_matrix\n",
        "\n",
        "wine = datasets.load_wine()\n",
        "X = wine.data\n",
        "y = wine.target\n",
        "\n",
        "X_train, X_test, y_train, y_test = train_test_split(X, y, test_size=0.2, random_state=42, stratify=y)\n",
        "\n",
        "\n",
        "scaler = StandardScaler()\n",
        "X_train_std = scaler.fit_transform(X_train)\n",
        "X_test_std = scaler.transform(X_test)\n",
        "\n",
        "\n",
        "svm_linear = SVC(kernel='linear', C=1.0, random_state=42)\n",
        "svm_linear.fit(X_train_std, y_train)\n",
        "y_pred_linear = svm_linear.predict(X_test_std)\n",
        "accuracy_linear = accuracy_score(y_test, y_pred_linear)\n",
        "print(\"Linear Kernel SVM Accuracy:\", accuracy_linear)\n",
        "print(\"Classification Report (Linear Kernel):\")\n",
        "print(classification_report(y_test, y_pred_linear, target_names=wine.target_names))\n",
        "\n",
        "\n",
        "svm_rbf = SVC(kernel='rbf', C=1.0, gamma='scale', random_state=42)\n",
        "svm_rbf.fit(X_train_std, y_train)\n",
        "y_pred_rbf = svm_rbf.predict(X_test_std)\n",
        "accuracy_rbf = accuracy_score(y_test, y_pred_rbf)\n",
        "print(\"RBF Kernel SVM Accuracy:\", accuracy_rbf)\n",
        "print(\"Classification Report (RBF Kernel):\")\n",
        "print(classification_report(y_test, y_pred_rbf, target_names=wine.target_names))\n",
        "\n",
        "# ---------------------\n",
        "# Compare Accuracies\n",
        "# ---------------------\n",
        "if accuracy_linear > accuracy_rbf:\n",
        "    print(\"Linear kernel performed better.\")\n",
        "elif accuracy_linear < accuracy_rbf:\n",
        "    print(\"RBF kernel performed better.\")\n",
        "else:\n",
        "    print(\"Both kernels performed equally well.\")\n",
        "\n",
        "\n",
        "fig, axes = plt.subplots(1, 2, figsize=(12, 5))\n",
        "\n",
        "conf_matrix_linear = confusion_matrix(y_test, y_pred_linear)\n",
        "sns.heatmap(conf_matrix_linear, annot=True, fmt='d', ax=axes[0],\n",
        "            cmap='Blues', xticklabels=wine.target_names, yticklabels=wine.target_names)\n",
        "axes[0].set_title('Confusion Matrix (Linear Kernel)')\n",
        "axes[0].set_xlabel('Predicted')\n",
        "axes[0].set_ylabel('Actual')\n",
        "\n",
        "conf_matrix_rbf = confusion_matrix(y_test, y_pred_rbf)\n",
        "sns.heatmap(conf_matrix_rbf, annot=True, fmt='d', ax=axes[1],\n",
        "            cmap='Greens', xticklabels=wine.target_names, yticklabels=wine.target_names)\n",
        "axes[1].set_title('Confusion Matrix (RBF Kernel)')\n",
        "axes[1].set_xlabel('Predicted')\n",
        "axes[1].set_ylabel('Actual')\n",
        "\n",
        "plt.tight_layout()\n",
        "plt.show()\n"
      ],
      "metadata": {
        "colab": {
          "base_uri": "https://localhost:8080/",
          "height": 920
        },
        "id": "oY8ZXclGYHnc",
        "outputId": "30509c2d-43bf-4cd7-a673-0ba190feb012"
      },
      "execution_count": 2,
      "outputs": [
        {
          "output_type": "stream",
          "name": "stdout",
          "text": [
            "Linear Kernel SVM Accuracy: 0.9444444444444444\n",
            "Classification Report (Linear Kernel):\n",
            "              precision    recall  f1-score   support\n",
            "\n",
            "     class_0       0.92      1.00      0.96        12\n",
            "     class_1       0.93      0.93      0.93        14\n",
            "     class_2       1.00      0.90      0.95        10\n",
            "\n",
            "    accuracy                           0.94        36\n",
            "   macro avg       0.95      0.94      0.95        36\n",
            "weighted avg       0.95      0.94      0.94        36\n",
            "\n",
            "RBF Kernel SVM Accuracy: 0.9722222222222222\n",
            "Classification Report (RBF Kernel):\n",
            "              precision    recall  f1-score   support\n",
            "\n",
            "     class_0       1.00      1.00      1.00        12\n",
            "     class_1       0.93      1.00      0.97        14\n",
            "     class_2       1.00      0.90      0.95        10\n",
            "\n",
            "    accuracy                           0.97        36\n",
            "   macro avg       0.98      0.97      0.97        36\n",
            "weighted avg       0.97      0.97      0.97        36\n",
            "\n",
            "RBF kernel performed better.\n"
          ]
        },
        {
          "output_type": "display_data",
          "data": {
            "text/plain": [
              "<Figure size 1200x500 with 4 Axes>"
            ],
            "image/png": "[encoded data removed]"
          },
          "metadata": {}
        }
      ]
    },
    {
      "cell_type": "markdown",
      "source": [
        "# Q-23)  Write a Python program to train an SVM Regressor (SVR) on a housing dataset and evaluate it using Mean Squared Error (MSE)."
      ],
      "metadata": {
        "id": "cUtRv_APZJsr"
      }
    },
    {
      "cell_type": "code",
      "source": [
        "from sklearn.datasets import fetch_california_housing\n",
        "from sklearn.model_selection import train_test_split\n",
        "from sklearn.preprocessing import StandardScaler\n",
        "from sklearn.svm import SVR\n",
        "from sklearn.metrics import mean_squared_error\n",
        "\n",
        "data = fetch_california_housing()\n",
        "X, y = data.data, data.target\n",
        "\n",
        "X_train, X_test, y_train, y_test = train_test_split(X, y, test_size=0.2, random_state=42)\n",
        "\n",
        "scaler = StandardScaler()\n",
        "X_train = scaler.fit_transform(X_train)\n",
        "X_test = scaler.transform(X_test)\n",
        "\n",
        "svr = SVR(kernel='rbf', C=100, gamma=0.1, epsilon=0.1)\n",
        "svr.fit(X_train, y_train)\n",
        "\n",
        "y_pred = svr.predict(X_test)\n",
        "mse = mean_squared_error(y_test, y_pred)\n",
        "print(\"Mean Squared Error:\", mse)\n"
      ],
      "metadata": {
        "colab": {
          "base_uri": "https://localhost:8080/"
        },
        "id": "jQ4drhZiZMct",
        "outputId": "9bce7a88-4947-4860-a071-99707a326bcf"
      },
      "execution_count": 3,
      "outputs": [
        {
          "output_type": "stream",
          "name": "stdout",
          "text": [
            "Mean Squared Error: 0.32449462225743636\n"
          ]
        }
      ]
    },
    {
      "cell_type": "markdown",
      "source": [
        "# Q-24) Write a Python program to train an SVM Classifier with a Polynomial Kernel and visualize the decision boundary."
      ],
      "metadata": {
        "id": "2WzIjeTAZTY8"
      }
    },
    {
      "cell_type": "code",
      "source": [
        "import numpy as np\n",
        "import matplotlib.pyplot as plt\n",
        "from sklearn import datasets\n",
        "from sklearn.model_selection import train_test_split\n",
        "from sklearn.preprocessing import StandardScaler\n",
        "from sklearn.svm import SVC\n",
        "\n",
        "iris = datasets.load_iris()\n",
        "\n",
        "X = iris.data[:, :2]\n",
        "y = iris.target\n",
        "\n",
        "X_train, X_test, y_train, y_test = train_test_split(X, y, test_size=0.3, random_state=42, stratify=y)\n",
        "\n",
        "scaler = StandardScaler()\n",
        "X_train_std = scaler.fit_transform(X_train)\n",
        "X_test_std = scaler.transform(X_test)\n",
        "\n",
        "svm_poly = SVC(kernel='poly', degree=3, C=1.0, random_state=42)\n",
        "svm_poly.fit(X_train_std, y_train)\n",
        "\n",
        "# Define a function to plot the decision boundary\n",
        "def plot_decision_regions(X, y, classifier, resolution=0.02):\n",
        "    # Setup marker generator and color map\n",
        "    markers = ('s', 'x', 'o')\n",
        "    colors = ('red', 'blue', 'lightgreen')\n",
        "    cmap = plt.cm.RdYlBu\n",
        "\n",
        "    # Determine min and max values for the grid\n",
        "    x1_min, x1_max = X[:, 0].min() - 1, X[:, 0].max() + 1\n",
        "    x2_min, x2_max = X[:, 1].min() - 1, X[:, 1].max() + 1\n",
        "\n",
        "    # Create a meshgrid\n",
        "    xx1, xx2 = np.meshgrid(np.arange(x1_min, x1_max, resolution),\n",
        "                           np.arange(x2_min, x2_max, resolution))\n",
        "    # Predict class using the classifier for each grid point\n",
        "    Z = classifier.predict(np.array([xx1.ravel(), xx2.ravel()]).T)\n",
        "    Z = Z.reshape(xx1.shape)\n",
        "\n",
        "    # Plot the decision surface\n",
        "    plt.contourf(xx1, xx2, Z, alpha=0.3, cmap=cmap)\n",
        "    plt.xlim(xx1.min(), xx1.max())\n",
        "    plt.ylim(xx2.min(), xx2.max())\n",
        "\n",
        "    # Plot all data points\n",
        "    for idx, cl in enumerate(np.unique(y)):\n",
        "        plt.scatter(x=X[y == cl, 0], y=X[y == cl, 1],\n",
        "                    c=colors[idx], marker=markers[idx],\n",
        "                    label=iris.target_names[cl], edgecolor='black')\n",
        "\n",
        "# Combine training and test data for visualization\n",
        "X_combined_std = np.vstack((X_train_std, X_test_std))\n",
        "y_combined = np.hstack((y_train, y_test))\n",
        "\n",
        "# Plot decision regions\n",
        "plot_decision_regions(X_combined_std, y_combined, classifier=svm_poly)\n",
        "plt.xlabel('Standardized Sepal Length')\n",
        "plt.ylabel('Standardized Sepal Width')\n",
        "plt.legend(loc='upper left')\n",
        "plt.title('SVM with Polynomial Kernel Decision Boundary')\n",
        "plt.show()\n"
      ],
      "metadata": {
        "colab": {
          "base_uri": "https://localhost:8080/",
          "height": 527
        },
        "id": "CTmWeTbPZaol",
        "outputId": "fa5c93d7-919a-47b9-833e-1697e87e1869"
      },
      "execution_count": 4,
      "outputs": [
        {
          "output_type": "stream",
          "name": "stderr",
          "text": [
            "<ipython-input-4-36dd34d7eb1e>:47: UserWarning: You passed a edgecolor/edgecolors ('black') for an unfilled marker ('x').  Matplotlib is ignoring the edgecolor in favor of the facecolor.  This behavior may change in the future.\n",
            "  plt.scatter(x=X[y == cl, 0], y=X[y == cl, 1],\n"
          ]
        },
        {
          "output_type": "display_data",
          "data": {
            "text/plain": [
              "<Figure size 640x480 with 1 Axes>"
            ],
            "image/png": "[encoded data removed]"
          },
          "metadata": {}
        }
      ]
    },
    {
      "cell_type": "markdown",
      "source": [
        "# Q-25) Write a Python program to train a Gaussian Naïve Bayes classifier on the Breast Cancer dataset and evaluate accuracy."
      ],
      "metadata": {
        "id": "S31qf1dKZnrP"
      }
    },
    {
      "cell_type": "code",
      "source": [
        "from sklearn.datasets import load_breast_cancer\n",
        "from sklearn.model_selection import train_test_split\n",
        "from sklearn.naive_bayes import GaussianNB\n",
        "from sklearn.metrics import accuracy_score\n",
        "\n",
        "data = load_breast_cancer()\n",
        "X, y = data.data, data.target\n",
        "\n",
        "X_train, X_test, y_train, y_test = train_test_split(X, y, test_size=0.2, random_state=42, stratify=y)\n",
        "\n",
        "gnb = GaussianNB()\n",
        "gnb.fit(X_train, y_train)\n",
        "\n",
        "y_pred = gnb.predict(X_test)\n",
        "\n",
        "accuracy = accuracy_score(y_test, y_pred)\n",
        "print(\"Accuracy:\", accuracy)\n"
      ],
      "metadata": {
        "colab": {
          "base_uri": "https://localhost:8080/"
        },
        "id": "E2m6nE71ZuQ4",
        "outputId": "68113d51-498e-4dbc-9171-39cf7c91cb59"
      },
      "execution_count": 5,
      "outputs": [
        {
          "output_type": "stream",
          "name": "stdout",
          "text": [
            "Accuracy: 0.9385964912280702\n"
          ]
        }
      ]
    },
    {
      "cell_type": "markdown",
      "source": [
        "# Q-26) Write a Python program to train a Multinomial Naïve Bayes classifier for text classification using the 20 Newsgroups dataset."
      ],
      "metadata": {
        "id": "Fq_CDZt6Z2zp"
      }
    },
    {
      "cell_type": "code",
      "source": [
        "from sklearn.datasets import fetch_20newsgroups\n",
        "from sklearn.feature_extraction.text import CountVectorizer, TfidfTransformer\n",
        "from sklearn.naive_bayes import MultinomialNB\n",
        "from sklearn.metrics import accuracy_score, classification_report\n",
        "\n",
        "newsgroups_train = fetch_20newsgroups(subset='train', remove=('headers', 'footers', 'quotes'))\n",
        "newsgroups_test  = fetch_20newsgroups(subset='test', remove=('headers', 'footers', 'quotes'))\n",
        "\n",
        "vectorizer = CountVectorizer(stop_words='english')\n",
        "X_train_counts = vectorizer.fit_transform(newsgroups_train.data)\n",
        "tfidf_transformer = TfidfTransformer()\n",
        "X_train_tfidf = tfidf_transformer.fit_transform(X_train_counts)\n",
        "\n",
        "X_test_counts = vectorizer.transform(newsgroups_test.data)\n",
        "X_test_tfidf = tfidf_transformer.transform(X_test_counts)\n",
        "\n",
        "clf = MultinomialNB()\n",
        "clf.fit(X_train_tfidf, newsgroups_train.target)\n",
        "\n",
        "y_pred = clf.predict(X_test_tfidf)\n",
        "accuracy = accuracy_score(newsgroups_test.target, y_pred)\n",
        "print(\"Accuracy:\", accuracy)\n",
        "print(\"\\nClassification Report:\")\n",
        "print(classification_report(newsgroups_test.target, y_pred, target_names=newsgroups_test.target_names))\n"
      ],
      "metadata": {
        "colab": {
          "base_uri": "https://localhost:8080/"
        },
        "id": "NfUXdu-TZ5uQ",
        "outputId": "554e7e8b-ebc7-4a34-a75b-2143c0faebd6"
      },
      "execution_count": 6,
      "outputs": [
        {
          "output_type": "stream",
          "name": "stdout",
          "text": [
            "Accuracy: 0.6779075942644716\n",
            "\n",
            "Classification Report:\n",
            "                          precision    recall  f1-score   support\n",
            "\n",
            "             alt.atheism       0.76      0.18      0.28       319\n",
            "           comp.graphics       0.67      0.69      0.68       389\n",
            " comp.os.ms-windows.misc       0.66      0.58      0.62       394\n",
            "comp.sys.ibm.pc.hardware       0.60      0.74      0.66       392\n",
            "   comp.sys.mac.hardware       0.77      0.67      0.71       385\n",
            "          comp.windows.x       0.81      0.77      0.79       395\n",
            "            misc.forsale       0.78      0.76      0.77       390\n",
            "               rec.autos       0.84      0.73      0.78       396\n",
            "         rec.motorcycles       0.87      0.74      0.80       398\n",
            "      rec.sport.baseball       0.92      0.80      0.85       397\n",
            "        rec.sport.hockey       0.57      0.93      0.71       399\n",
            "               sci.crypt       0.59      0.79      0.67       396\n",
            "         sci.electronics       0.72      0.52      0.60       393\n",
            "                 sci.med       0.89      0.76      0.82       396\n",
            "               sci.space       0.77      0.74      0.76       394\n",
            "  soc.religion.christian       0.37      0.93      0.53       398\n",
            "      talk.politics.guns       0.57      0.71      0.63       364\n",
            "   talk.politics.mideast       0.81      0.79      0.80       376\n",
            "      talk.politics.misc       0.89      0.28      0.43       310\n",
            "      talk.religion.misc       1.00      0.01      0.02       251\n",
            "\n",
            "                accuracy                           0.68      7532\n",
            "               macro avg       0.74      0.66      0.65      7532\n",
            "            weighted avg       0.74      0.68      0.66      7532\n",
            "\n"
          ]
        }
      ]
    },
    {
      "cell_type": "markdown",
      "source": [
        "# Q-27)Write a Python program to train an SVM Classifier with different C values and compare the decision boundaries visually."
      ],
      "metadata": {
        "id": "9y91Ng7PaC6D"
      }
    },
    {
      "cell_type": "code",
      "source": [
        "import numpy as np\n",
        "import matplotlib.pyplot as plt\n",
        "from sklearn import datasets\n",
        "from sklearn.preprocessing import StandardScaler\n",
        "from sklearn.svm import SVC\n",
        "\n",
        "def plot_decision_boundary(clf, X, y, ax, title):\n",
        "    # Define the mesh grid for plotting\n",
        "    x_min, x_max = X[:, 0].min() - 1, X[:, 0].max() + 1\n",
        "    y_min, y_max = X[:, 1].min() - 1, X[:, 1].max() + 1\n",
        "    xx, yy = np.meshgrid(np.arange(x_min, x_max, 0.02),\n",
        "                         np.arange(y_min, y_max, 0.02))\n",
        "    # Predict labels for each point in the mesh grid\n",
        "    Z = clf.predict(np.c_[xx.ravel(), yy.ravel()])\n",
        "    Z = Z.reshape(xx.shape)\n",
        "    # Plot the decision boundary and training points\n",
        "    ax.contourf(xx, yy, Z, alpha=0.3, cmap=plt.cm.coolwarm)\n",
        "    ax.scatter(X[:, 0], X[:, 1], c=y, cmap=plt.cm.coolwarm, edgecolors='k')\n",
        "    ax.set_title(title)\n",
        "    ax.set_xlabel('Feature 1')\n",
        "    ax.set_ylabel('Feature 2')\n",
        "\n",
        "# Load the Iris dataset (using only the first two features)\n",
        "iris = datasets.load_iris()\n",
        "X = iris.data[:, :2]\n",
        "y = iris.target\n",
        "\n",
        "# Standardize the features\n",
        "scaler = StandardScaler()\n",
        "X_std = scaler.fit_transform(X)\n",
        "\n",
        "# Define different C values to compare\n",
        "C_values = [0.1, 1, 10]\n",
        "\n",
        "# Create subplots for each classifier\n",
        "fig, axes = plt.subplots(1, len(C_values), figsize=(15, 5))\n",
        "\n",
        "# Train SVM classifiers with different C values and plot their decision boundaries\n",
        "for i, C in enumerate(C_values):\n",
        "    svm = SVC(kernel='linear', C=C, random_state=42)\n",
        "    svm.fit(X_std, y)\n",
        "    plot_decision_boundary(svm, X_std, y, axes[i], title=f\"SVM with C = {C}\")\n",
        "\n",
        "plt.tight_layout()\n",
        "plt.show()\n"
      ],
      "metadata": {
        "colab": {
          "base_uri": "https://localhost:8080/",
          "height": 381
        },
        "id": "Q6x11LQuaF7i",
        "outputId": "c19715da-c836-4b86-ffb8-b2155071696e"
      },
      "execution_count": 7,
      "outputs": [
        {
          "output_type": "display_data",
          "data": {
            "text/plain": [
              "<Figure size 1500x500 with 3 Axes>"
            ],
            "image/png": "[encoded data removed]"
          },
          "metadata": {}
        }
      ]
    },
    {
      "cell_type": "markdown",
      "source": [
        "# Q-28)  Write a Python program to train a Bernoulli Naïve Bayes classifier for binar classification on a dataset with binary features."
      ],
      "metadata": {
        "id": "rcEcDihUag9W"
      }
    },
    {
      "cell_type": "code",
      "source": [
        "import numpy as np\n",
        "from sklearn.naive_bayes import BernoulliNB\n",
        "from sklearn.model_selection import train_test_split\n",
        "from sklearn.metrics import accuracy_score\n",
        "\n",
        "np.random.seed(42)\n",
        "X = np.random.randint(0, 2, size=(100, 10))\n",
        "y = np.random.randint(0, 2, size=100)\n",
        "\n",
        "X_train, X_test, y_train, y_test = train_test_split(X, y, test_size=0.2, random_state=42)\n",
        "\n",
        "clf = BernoulliNB()\n",
        "clf.fit(X_train, y_train)\n",
        "\n",
        "y_pred = clf.predict(X_test)\n",
        "accuracy = accuracy_score(y_test, y_pred)\n",
        "print(\"Accuracy:\", accuracy)\n"
      ],
      "metadata": {
        "colab": {
          "base_uri": "https://localhost:8080/"
        },
        "id": "s_ZVGnPVapuX",
        "outputId": "f7bbd305-6623-431a-fb58-3d968aaf3195"
      },
      "execution_count": 8,
      "outputs": [
        {
          "output_type": "stream",
          "name": "stdout",
          "text": [
            "Accuracy: 0.5\n"
          ]
        }
      ]
    },
    {
      "cell_type": "markdown",
      "source": [
        "# Q-29 ) Write a Python program to apply feature scaling before training an SVM model and compare results with unscaled data."
      ],
      "metadata": {
        "id": "s0ExReETa4YJ"
      }
    },
    {
      "cell_type": "code",
      "source": [
        "from sklearn import datasets\n",
        "from sklearn.model_selection import train_test_split\n",
        "from sklearn.preprocessing import StandardScaler\n",
        "from sklearn.svm import SVC\n",
        "from sklearn.metrics import accuracy_score\n",
        "\n",
        "iris = datasets.load_iris()\n",
        "X, y = iris.data, iris.target\n",
        "\n",
        "X_train, X_test, y_train, y_test = train_test_split(X, y, test_size=0.2, random_state=42, stratify=y)\n",
        "\n",
        "svm_unscaled = SVC(kernel='linear', C=1.0, random_state=42)\n",
        "svm_unscaled.fit(X_train, y_train)\n",
        "y_pred_unscaled = svm_unscaled.predict(X_test)\n",
        "accuracy_unscaled = accuracy_score(y_test, y_pred_unscaled)\n",
        "\n",
        "scaler = StandardScaler()\n",
        "X_train_scaled = scaler.fit_transform(X_train)\n",
        "X_test_scaled = scaler.transform(X_test)\n",
        "\n",
        "svm_scaled = SVC(kernel='linear', C=1.0, random_state=42)\n",
        "svm_scaled.fit(X_train_scaled, y_train)\n",
        "y_pred_scaled = svm_scaled.predict(X_test_scaled)\n",
        "accuracy_scaled = accuracy_score(y_test, y_pred_scaled)\n",
        "\n",
        "print(\"Accuracy without scaling:\", accuracy_unscaled)\n",
        "print(\"Accuracy with scaling:\", accuracy_scaled)\n"
      ],
      "metadata": {
        "colab": {
          "base_uri": "https://localhost:8080/"
        },
        "id": "cIkURdpYa7jp",
        "outputId": "62f682c4-db18-43d6-b478-d7c6efc22f14"
      },
      "execution_count": 9,
      "outputs": [
        {
          "output_type": "stream",
          "name": "stdout",
          "text": [
            "Accuracy without scaling: 1.0\n",
            "Accuracy with scaling: 1.0\n"
          ]
        }
      ]
    },
    {
      "cell_type": "markdown",
      "source": [
        "# Q-30) Write a Python program to train a Gaussian Naïve Bayes model and compare the predictions before and after Laplace Smoothing."
      ],
      "metadata": {
        "id": "tDseefZ6bGtz"
      }
    },
    {
      "cell_type": "code",
      "source": [
        "from sklearn.datasets import load_iris\n",
        "from sklearn.model_selection import train_test_split\n",
        "from sklearn.naive_bayes import GaussianNB\n",
        "from sklearn.metrics import accuracy_score\n",
        "\n",
        "data = load_iris()\n",
        "X, y = data.data, data.target\n",
        "\n",
        "X_train, X_test, y_train, y_test = train_test_split(X, y, test_size=0.2, random_state=42, stratify=y)\n",
        "\n",
        "# Train GaussianNB with default var_smoothing (acts as minimal smoothing)\n",
        "gnb_default = GaussianNB()\n",
        "gnb_default.fit(X_train, y_train)\n",
        "y_pred_default = gnb_default.predict(X_test)\n",
        "accuracy_default = accuracy_score(y_test, y_pred_default)\n",
        "\n",
        "# Train GaussianNB with increased var_smoothing (more smoothing)\n",
        "gnb_smoothed = GaussianNB(var_smoothing=1.0)\n",
        "gnb_smoothed.fit(X_train, y_train)\n",
        "y_pred_smoothed = gnb_smoothed.predict(X_test)\n",
        "accuracy_smoothed = accuracy_score(y_test, y_pred_smoothed)\n",
        "\n",
        "print(\"Predictions with default smoothing:\", y_pred_default)\n",
        "print(\"Accuracy with default smoothing:\", accuracy_default)\n",
        "print(\"Predictions with increased smoothing:\", y_pred_smoothed)\n",
        "print(\"Accuracy with increased smoothing:\", accuracy_smoothed)\n"
      ],
      "metadata": {
        "colab": {
          "base_uri": "https://localhost:8080/"
        },
        "id": "qDOJaXiQbKBj",
        "outputId": "9ac17524-5774-4c5e-c127-02aaef11e64b"
      },
      "execution_count": 10,
      "outputs": [
        {
          "output_type": "stream",
          "name": "stdout",
          "text": [
            "Predictions with default smoothing: [0 2 1 1 0 1 0 0 2 1 2 2 2 1 0 0 0 1 1 2 0 2 1 2 2 2 1 0 2 0]\n",
            "Accuracy with default smoothing: 0.9666666666666667\n",
            "Predictions with increased smoothing: [0 1 1 1 0 1 0 0 2 1 2 2 2 1 0 0 0 1 1 1 0 2 1 2 2 2 1 0 2 0]\n",
            "Accuracy with increased smoothing: 0.9\n"
          ]
        }
      ]
    },
    {
      "cell_type": "markdown",
      "source": [
        "# Q-31) Write a Python program to train an SVM Classifier and use GridSearchCV to tune the hyperparameters (C, gamma, kernel)."
      ],
      "metadata": {
        "id": "M9zvj5gTbcM2"
      }
    },
    {
      "cell_type": "code",
      "source": [
        "from sklearn.datasets import load_iris\n",
        "from sklearn.svm import SVC\n",
        "from sklearn.model_selection import train_test_split, GridSearchCV\n",
        "from sklearn.metrics import classification_report\n",
        "\n",
        "data = load_iris()\n",
        "X, y = data.data, data.target\n",
        "\n",
        "X_train, X_test, y_train, y_test = train_test_split(\n",
        "    X, y, test_size=0.2, random_state=42, stratify=y\n",
        ")\n",
        "\n",
        "param_grid = [\n",
        "    {'kernel': ['linear'], 'C': [0.1, 1, 10]},\n",
        "    {'kernel': ['rbf'], 'C': [0.1, 1, 10], 'gamma': [0.001, 0.01, 0.1, 1]},\n",
        "    {'kernel': ['poly'], 'C': [0.1, 1, 10], 'gamma': [0.001, 0.01, 0.1, 1], 'degree': [2, 3, 4]}\n",
        "]\n",
        "\n",
        "svc = SVC()\n",
        "\n",
        "grid_search = GridSearchCV(svc, param_grid, cv=5, scoring='accuracy', n_jobs=-1)\n",
        "grid_search.fit(X_train, y_train)\n",
        "\n",
        "print(\"Best parameters:\", grid_search.best_params_)\n",
        "print(\"Best cross-validation accuracy: {:.4f}\".format(grid_search.best_score_))\n",
        "\n",
        "# Evaluate on the test set\n",
        "y_pred = grid_search.predict(X_test)\n",
        "print(\"\\nTest set classification report:\")\n",
        "print(classification_report(y_test, y_pred, target_names=data.target_names))\n"
      ],
      "metadata": {
        "colab": {
          "base_uri": "https://localhost:8080/"
        },
        "id": "afI7RG3abeim",
        "outputId": "8e4b7e34-95f0-4ca8-f4c0-88debf978e0e"
      },
      "execution_count": 11,
      "outputs": [
        {
          "output_type": "stream",
          "name": "stdout",
          "text": [
            "Best parameters: {'C': 0.1, 'kernel': 'linear'}\n",
            "Best cross-validation accuracy: 0.9833\n",
            "\n",
            "Test set classification report:\n",
            "              precision    recall  f1-score   support\n",
            "\n",
            "      setosa       1.00      1.00      1.00        10\n",
            "  versicolor       1.00      0.90      0.95        10\n",
            "   virginica       0.91      1.00      0.95        10\n",
            "\n",
            "    accuracy                           0.97        30\n",
            "   macro avg       0.97      0.97      0.97        30\n",
            "weighted avg       0.97      0.97      0.97        30\n",
            "\n"
          ]
        }
      ]
    },
    {
      "cell_type": "markdown",
      "source": [
        "# Q-32) Write a Python program to train an SVM Classifier on an imbalanced dataset and apply class weighting and check it improve accuracy."
      ],
      "metadata": {
        "id": "q54hn8pxbv2P"
      }
    },
    {
      "cell_type": "code",
      "source": [
        "from sklearn.datasets import make_classification\n",
        "from sklearn.model_selection import train_test_split\n",
        "from sklearn.svm import SVC\n",
        "from sklearn.metrics import accuracy_score, classification_report\n",
        "\n",
        "X, y = make_classification(n_samples=1000, n_features=20, n_informative=2,\n",
        "                           n_redundant=10, n_clusters_per_class=1,\n",
        "                           weights=[0.9, 0.1], flip_y=0, random_state=42)\n",
        "\n",
        "X_train, X_test, y_train, y_test = train_test_split(X, y, test_size=0.2,\n",
        "                                                    random_state=42, stratify=y)\n",
        "\n",
        "svm_no_weight = SVC(kernel='rbf', C=1.0, random_state=42)\n",
        "svm_no_weight.fit(X_train, y_train)\n",
        "y_pred_no_weight = svm_no_weight.predict(X_test)\n",
        "accuracy_no_weight = accuracy_score(y_test, y_pred_no_weight)\n",
        "\n",
        "svm_weighted = SVC(kernel='rbf', C=1.0, class_weight='balanced', random_state=42)\n",
        "svm_weighted.fit(X_train, y_train)\n",
        "y_pred_weighted = svm_weighted.predict(X_test)\n",
        "accuracy_weighted = accuracy_score(y_test, y_pred_weighted)\n",
        "\n",
        "print(\"Accuracy without class weighting:\", accuracy_no_weight)\n",
        "print(\"Accuracy with class weighting:\", accuracy_weighted)\n",
        "\n",
        "print(\"\\nClassification report without weighting:\")\n",
        "print(classification_report(y_test, y_pred_no_weight))\n",
        "\n",
        "print(\"\\nClassification report with weighting:\")\n",
        "print(classification_report(y_test, y_pred_weighted))\n"
      ],
      "metadata": {
        "colab": {
          "base_uri": "https://localhost:8080/"
        },
        "id": "nAliHGhTbyJi",
        "outputId": "d9e99f9a-67cb-4160-d414-9d00c4fb1910"
      },
      "execution_count": 12,
      "outputs": [
        {
          "output_type": "stream",
          "name": "stdout",
          "text": [
            "Accuracy without class weighting: 0.985\n",
            "Accuracy with class weighting: 0.96\n",
            "\n",
            "Classification report without weighting:\n",
            "              precision    recall  f1-score   support\n",
            "\n",
            "           0       0.98      1.00      0.99       180\n",
            "           1       1.00      0.85      0.92        20\n",
            "\n",
            "    accuracy                           0.98       200\n",
            "   macro avg       0.99      0.93      0.96       200\n",
            "weighted avg       0.99      0.98      0.98       200\n",
            "\n",
            "\n",
            "Classification report with weighting:\n",
            "              precision    recall  f1-score   support\n",
            "\n",
            "           0       0.98      0.97      0.98       180\n",
            "           1       0.77      0.85      0.81        20\n",
            "\n",
            "    accuracy                           0.96       200\n",
            "   macro avg       0.88      0.91      0.89       200\n",
            "weighted avg       0.96      0.96      0.96       200\n",
            "\n"
          ]
        }
      ]
    },
    {
      "cell_type": "markdown",
      "source": [
        "# Q-33) Write a Python program to implement a Naïve Bayes classifier for spam detection using email data."
      ],
      "metadata": {
        "id": "djeG1HWBcDVz"
      }
    },
    {
      "cell_type": "code",
      "source": [
        "import pandas as pd\n",
        "from sklearn.model_selection import train_test_split\n",
        "from sklearn.feature_extraction.text import CountVectorizer\n",
        "from sklearn.naive_bayes import MultinomialNB\n",
        "from sklearn.metrics import accuracy_score, classification_report\n",
        "\n",
        "# Sample email dataset with text and labels (\"spam\" or \"ham\")\n",
        "data = {\n",
        "    \"text\": [\n",
        "        \"Congratulations! You've won a $1,000 Walmart gift card. Go to http://bit.ly/12345 to claim now.\",\n",
        "        \"Hi, can we meet tomorrow to discuss the project?\",\n",
        "        \"You have been selected for a free vacation to Bahamas. Call now!\",\n",
        "        \"Reminder: Your appointment is scheduled for tomorrow at 10 AM.\",\n",
        "        \"Earn money quickly with this simple trick. Click here!\",\n",
        "        \"Don't forget to submit your report by end of day.\"\n",
        "    ],\n",
        "    \"label\": [\"spam\", \"ham\", \"spam\", \"ham\", \"spam\", \"ham\"]\n",
        "}\n",
        "\n",
        "df = pd.DataFrame(data)\n",
        "\n",
        "# Split the dataset into training and testing sets\n",
        "X_train, X_test, y_train, y_test = train_test_split(\n",
        "    df['text'], df['label'], test_size=0.33, random_state=42, stratify=df['label']\n",
        ")\n",
        "\n",
        "# Convert text data into numerical feature vectors using CountVectorizer\n",
        "vectorizer = CountVectorizer(stop_words='english')\n",
        "X_train_vec = vectorizer.fit_transform(X_train)\n",
        "X_test_vec = vectorizer.transform(X_test)\n",
        "\n",
        "# Train a Multinomial Naïve Bayes classifier\n",
        "clf = MultinomialNB()\n",
        "clf.fit(X_train_vec, y_train)\n",
        "\n",
        "# Predict on the test set\n",
        "y_pred = clf.predict(X_test_vec)\n",
        "\n",
        "# Evaluate the classifier's performance\n",
        "accuracy = accuracy_score(y_test, y_pred)\n",
        "report = classification_report(y_test, y_pred)\n",
        "\n",
        "print(\"Accuracy:\", accuracy)\n",
        "print(\"\\nClassification Report:\")\n",
        "print(report)\n"
      ],
      "metadata": {
        "colab": {
          "base_uri": "https://localhost:8080/"
        },
        "id": "jXbeCyaDcFCK",
        "outputId": "185a48bc-a4da-495a-8d38-cc15f6078e9d"
      },
      "execution_count": 13,
      "outputs": [
        {
          "output_type": "stream",
          "name": "stdout",
          "text": [
            "Accuracy: 0.5\n",
            "\n",
            "Classification Report:\n",
            "              precision    recall  f1-score   support\n",
            "\n",
            "         ham       0.50      1.00      0.67         1\n",
            "        spam       0.00      0.00      0.00         1\n",
            "\n",
            "    accuracy                           0.50         2\n",
            "   macro avg       0.25      0.50      0.33         2\n",
            "weighted avg       0.25      0.50      0.33         2\n",
            "\n"
          ]
        },
        {
          "output_type": "stream",
          "name": "stderr",
          "text": [
            "/usr/local/lib/python3.11/dist-packages/sklearn/metrics/_classification.py:1565: UndefinedMetricWarning: Precision is ill-defined and being set to 0.0 in labels with no predicted samples. Use `zero_division` parameter to control this behavior.\n",
            "  _warn_prf(average, modifier, f\"{metric.capitalize()} is\", len(result))\n",
            "/usr/local/lib/python3.11/dist-packages/sklearn/metrics/_classification.py:1565: UndefinedMetricWarning: Precision is ill-defined and being set to 0.0 in labels with no predicted samples. Use `zero_division` parameter to control this behavior.\n",
            "  _warn_prf(average, modifier, f\"{metric.capitalize()} is\", len(result))\n",
            "/usr/local/lib/python3.11/dist-packages/sklearn/metrics/_classification.py:1565: UndefinedMetricWarning: Precision is ill-defined and being set to 0.0 in labels with no predicted samples. Use `zero_division` parameter to control this behavior.\n",
            "  _warn_prf(average, modifier, f\"{metric.capitalize()} is\", len(result))\n"
          ]
        }
      ]
    },
    {
      "cell_type": "markdown",
      "source": [
        "# Q-34) Write a Python program to train an SVM Classifier and a Naïve Bayes Classifier on the same dataset and compare their accuracy."
      ],
      "metadata": {
        "id": "ZfZZddDxcZ3X"
      }
    },
    {
      "cell_type": "code",
      "source": [
        "from sklearn.datasets import load_iris\n",
        "from sklearn.model_selection import train_test_split\n",
        "from sklearn.svm import SVC\n",
        "from sklearn.naive_bayes import GaussianNB\n",
        "from sklearn.metrics import accuracy_score, classification_report\n",
        "\n",
        "# Load the Iris dataset\n",
        "data = load_iris()\n",
        "X, y = data.data, data.target\n",
        "\n",
        "X_train, X_test, y_train, y_test = train_test_split(\n",
        "    X, y, test_size=0.2, random_state=42, stratify=y\n",
        ")\n",
        "\n",
        "svm_model = SVC(kernel='linear', C=1.0, random_state=42)\n",
        "svm_model.fit(X_train, y_train)\n",
        "y_pred_svm = svm_model.predict(X_test)\n",
        "accuracy_svm = accuracy_score(y_test, y_pred_svm)\n",
        "\n",
        "nb_model = GaussianNB()\n",
        "nb_model.fit(X_train, y_train)\n",
        "y_pred_nb = nb_model.predict(X_test)\n",
        "accuracy_nb = accuracy_score(y_test, y_pred_nb)\n",
        "\n",
        "print(\"SVM Accuracy:\", accuracy_svm)\n",
        "print(\"Naïve Bayes Accuracy:\", accuracy_nb)\n",
        "\n",
        "print(\"\\nClassification Report for SVM:\")\n",
        "print(classification_report(y_test, y_pred_svm))\n",
        "\n",
        "print(\"\\nClassification Report for Naïve Bayes:\")\n",
        "print(classification_report(y_test, y_pred_nb))\n"
      ],
      "metadata": {
        "colab": {
          "base_uri": "https://localhost:8080/"
        },
        "id": "_jrM-8rNceXd",
        "outputId": "1fbb1158-65c9-4ba2-b1a9-25e12d723973"
      },
      "execution_count": 14,
      "outputs": [
        {
          "output_type": "stream",
          "name": "stdout",
          "text": [
            "SVM Accuracy: 1.0\n",
            "Naïve Bayes Accuracy: 0.9666666666666667\n",
            "\n",
            "Classification Report for SVM:\n",
            "              precision    recall  f1-score   support\n",
            "\n",
            "           0       1.00      1.00      1.00        10\n",
            "           1       1.00      1.00      1.00        10\n",
            "           2       1.00      1.00      1.00        10\n",
            "\n",
            "    accuracy                           1.00        30\n",
            "   macro avg       1.00      1.00      1.00        30\n",
            "weighted avg       1.00      1.00      1.00        30\n",
            "\n",
            "\n",
            "Classification Report for Naïve Bayes:\n",
            "              precision    recall  f1-score   support\n",
            "\n",
            "           0       1.00      1.00      1.00        10\n",
            "           1       1.00      0.90      0.95        10\n",
            "           2       0.91      1.00      0.95        10\n",
            "\n",
            "    accuracy                           0.97        30\n",
            "   macro avg       0.97      0.97      0.97        30\n",
            "weighted avg       0.97      0.97      0.97        30\n",
            "\n"
          ]
        }
      ]
    },
    {
      "cell_type": "markdown",
      "source": [
        "# Q-35)  Write a Python program to perform feature selection before training a Naïve Bayes classifier and compare results."
      ],
      "metadata": {
        "id": "9vGhT36DclDv"
      }
    },
    {
      "cell_type": "code",
      "source": [
        "from sklearn.datasets import load_iris\n",
        "from sklearn.model_selection import train_test_split\n",
        "from sklearn.naive_bayes import GaussianNB\n",
        "from sklearn.feature_selection import SelectKBest, f_classif\n",
        "from sklearn.metrics import accuracy_score, classification_report\n",
        "\n",
        "data = load_iris()\n",
        "X, y = data.data, data.target\n",
        "\n",
        "X_train, X_test, y_train, y_test = train_test_split(\n",
        "    X, y, test_size=0.2, random_state=42, stratify=y\n",
        ")\n",
        "\n",
        "nb_model = GaussianNB()\n",
        "nb_model.fit(X_train, y_train)\n",
        "y_pred_no_fs = nb_model.predict(X_test)\n",
        "accuracy_no_fs = accuracy_score(y_test, y_pred_no_fs)\n",
        "\n",
        "# Perform feature selection (select the top 2 best features)\n",
        "selector = SelectKBest(score_func=f_classif, k=2)\n",
        "X_train_selected = selector.fit_transform(X_train, y_train)\n",
        "X_test_selected = selector.transform(X_test)\n",
        "\n",
        "# Train Naïve Bayes with selected features\n",
        "nb_model_fs = GaussianNB()\n",
        "nb_model_fs.fit(X_train_selected, y_train)\n",
        "y_pred_fs = nb_model_fs.predict(X_test_selected)\n",
        "accuracy_fs = accuracy_score(y_test, y_pred_fs)\n",
        "\n",
        "print(\"Naïve Bayes Accuracy without Feature Selection:\", accuracy_no_fs)\n",
        "print(\"Naïve Bayes Accuracy with Feature Selection:\", accuracy_fs)\n",
        "\n",
        "print(\"\\nClassification Report without Feature Selection:\")\n",
        "print(classification_report(y_test, y_pred_no_fs))\n",
        "\n",
        "print(\"\\nClassification Report with Feature Selection:\")\n",
        "print(classification_report(y_test, y_pred_fs))\n"
      ],
      "metadata": {
        "colab": {
          "base_uri": "https://localhost:8080/"
        },
        "id": "70kfwvSzcnuv",
        "outputId": "0ea359b3-c0f9-4528-8710-dad33993fb07"
      },
      "execution_count": 15,
      "outputs": [
        {
          "output_type": "stream",
          "name": "stdout",
          "text": [
            "Naïve Bayes Accuracy without Feature Selection: 0.9666666666666667\n",
            "Naïve Bayes Accuracy with Feature Selection: 0.9666666666666667\n",
            "\n",
            "Classification Report without Feature Selection:\n",
            "              precision    recall  f1-score   support\n",
            "\n",
            "           0       1.00      1.00      1.00        10\n",
            "           1       1.00      0.90      0.95        10\n",
            "           2       0.91      1.00      0.95        10\n",
            "\n",
            "    accuracy                           0.97        30\n",
            "   macro avg       0.97      0.97      0.97        30\n",
            "weighted avg       0.97      0.97      0.97        30\n",
            "\n",
            "\n",
            "Classification Report with Feature Selection:\n",
            "              precision    recall  f1-score   support\n",
            "\n",
            "           0       1.00      1.00      1.00        10\n",
            "           1       1.00      0.90      0.95        10\n",
            "           2       0.91      1.00      0.95        10\n",
            "\n",
            "    accuracy                           0.97        30\n",
            "   macro avg       0.97      0.97      0.97        30\n",
            "weighted avg       0.97      0.97      0.97        30\n",
            "\n"
          ]
        }
      ]
    },
    {
      "cell_type": "markdown",
      "source": [
        "# Q-36) Write a Python program to train an SVM Classifier using One-vs-Rest (OvR) and One-vs-One (OvO) strategies on the Wine dataset and compare their accuracy.\n",
        "\n"
      ],
      "metadata": {
        "id": "7b4s2ErHcwco"
      }
    },
    {
      "cell_type": "code",
      "source": [
        "from sklearn.datasets import load_wine\n",
        "from sklearn.model_selection import train_test_split\n",
        "from sklearn.svm import SVC\n",
        "from sklearn.multiclass import OneVsRestClassifier, OneVsOneClassifier\n",
        "from sklearn.metrics import accuracy_score, classification_report\n",
        "\n",
        "data = load_wine()\n",
        "X, y = data.data, data.target\n",
        "\n",
        "X_train, X_test, y_train, y_test = train_test_split(\n",
        "    X, y, test_size=0.2, random_state=42, stratify=y\n",
        ")\n",
        "\n",
        "svm_ovr = OneVsRestClassifier(SVC(kernel='linear', C=1.0, random_state=42))\n",
        "svm_ovr.fit(X_train, y_train)\n",
        "y_pred_ovr = svm_ovr.predict(X_test)\n",
        "accuracy_ovr = accuracy_score(y_test, y_pred_ovr)\n",
        "\n",
        "svm_ovo = OneVsOneClassifier(SVC(kernel='linear', C=1.0, random_state=42))\n",
        "svm_ovo.fit(X_train, y_train)\n",
        "y_pred_ovo = svm_ovo.predict(X_test)\n",
        "accuracy_ovo = accuracy_score(y_test, y_pred_ovo)\n",
        "\n",
        "print(\"SVM Accuracy with One-vs-Rest (OvR):\", accuracy_ovr)\n",
        "print(\"SVM Accuracy with One-vs-One (OvO):\", accuracy_ovo)\n",
        "\n",
        "print(\"\\nClassification Report for One-vs-Rest (OvR):\")\n",
        "print(classification_report(y_test, y_pred_ovr))\n",
        "\n",
        "print(\"\\nClassification Report for One-vs-One (OvO):\")\n",
        "print(classification_report(y_test, y_pred_ovo))\n"
      ],
      "metadata": {
        "colab": {
          "base_uri": "https://localhost:8080/"
        },
        "id": "qvZ1vE0Mc0Zh",
        "outputId": "26f3831a-9de5-44c6-edeb-97d7950ff98c"
      },
      "execution_count": 16,
      "outputs": [
        {
          "output_type": "stream",
          "name": "stdout",
          "text": [
            "SVM Accuracy with One-vs-Rest (OvR): 0.9444444444444444\n",
            "SVM Accuracy with One-vs-One (OvO): 0.9444444444444444\n",
            "\n",
            "Classification Report for One-vs-Rest (OvR):\n",
            "              precision    recall  f1-score   support\n",
            "\n",
            "           0       1.00      1.00      1.00        12\n",
            "           1       0.88      1.00      0.93        14\n",
            "           2       1.00      0.80      0.89        10\n",
            "\n",
            "    accuracy                           0.94        36\n",
            "   macro avg       0.96      0.93      0.94        36\n",
            "weighted avg       0.95      0.94      0.94        36\n",
            "\n",
            "\n",
            "Classification Report for One-vs-One (OvO):\n",
            "              precision    recall  f1-score   support\n",
            "\n",
            "           0       1.00      1.00      1.00        12\n",
            "           1       0.88      1.00      0.93        14\n",
            "           2       1.00      0.80      0.89        10\n",
            "\n",
            "    accuracy                           0.94        36\n",
            "   macro avg       0.96      0.93      0.94        36\n",
            "weighted avg       0.95      0.94      0.94        36\n",
            "\n"
          ]
        }
      ]
    },
    {
      "cell_type": "markdown",
      "source": [
        "# Q-37) Write a Python program to train an SVM Classifier using Linear, Polynomial, and RBF kernels on the Breast Cancer dataset and compare their accuracy."
      ],
      "metadata": {
        "id": "ev1eBloec9cS"
      }
    },
    {
      "cell_type": "code",
      "source": [
        "from sklearn.datasets import load_breast_cancer\n",
        "from sklearn.model_selection import train_test_split\n",
        "from sklearn.svm import SVC\n",
        "from sklearn.metrics import accuracy_score, classification_report\n",
        "\n",
        "data = load_breast_cancer()\n",
        "X, y = data.data, data.target\n",
        "\n",
        "X_train, X_test, y_train, y_test = train_test_split(\n",
        "    X, y, test_size=0.2, random_state=42, stratify=y\n",
        ")\n",
        "\n",
        "# Train SVM with Linear Kernel\n",
        "svm_linear = SVC(kernel='linear', C=1.0, random_state=42)\n",
        "svm_linear.fit(X_train, y_train)\n",
        "y_pred_linear = svm_linear.predict(X_test)\n",
        "accuracy_linear = accuracy_score(y_test, y_pred_linear)\n",
        "\n",
        "# Train SVM with Polynomial Kernel\n",
        "svm_poly = SVC(kernel='poly', degree=3, C=1.0, random_state=42)\n",
        "svm_poly.fit(X_train, y_train)\n",
        "y_pred_poly = svm_poly.predict(X_test)\n",
        "accuracy_poly = accuracy_score(y_test, y_pred_poly)\n",
        "\n",
        "# Train SVM with RBF Kernel\n",
        "svm_rbf = SVC(kernel='rbf', C=1.0, gamma='scale', random_state=42)\n",
        "svm_rbf.fit(X_train, y_train)\n",
        "y_pred_rbf = svm_rbf.predict(X_test)\n",
        "accuracy_rbf = accuracy_score(y_test, y_pred_rbf)\n",
        "\n",
        "print(\"SVM Accuracy with Linear Kernel:\", accuracy_linear)\n",
        "print(\"SVM Accuracy with Polynomial Kernel:\", accuracy_poly)\n",
        "print(\"SVM Accuracy with RBF Kernel:\", accuracy_rbf)\n",
        "\n",
        "print(\"\\nClassification Report for Linear Kernel:\")\n",
        "print(classification_report(y_test, y_pred_linear))\n",
        "\n",
        "print(\"\\nClassification Report for Polynomial Kernel:\")\n",
        "print(classification_report(y_test, y_pred_poly))\n",
        "\n",
        "print(\"\\nClassification Report for RBF Kernel:\")\n",
        "print(classification_report(y_test, y_pred_rbf))\n"
      ],
      "metadata": {
        "colab": {
          "base_uri": "https://localhost:8080/"
        },
        "id": "Z6NzLS24dABa",
        "outputId": "d050b6fe-b62f-4ea5-e1a1-23797a805308"
      },
      "execution_count": 17,
      "outputs": [
        {
          "output_type": "stream",
          "name": "stdout",
          "text": [
            "SVM Accuracy with Linear Kernel: 0.956140350877193\n",
            "SVM Accuracy with Polynomial Kernel: 0.9210526315789473\n",
            "SVM Accuracy with RBF Kernel: 0.9298245614035088\n",
            "\n",
            "Classification Report for Linear Kernel:\n",
            "              precision    recall  f1-score   support\n",
            "\n",
            "           0       0.97      0.90      0.94        42\n",
            "           1       0.95      0.99      0.97        72\n",
            "\n",
            "    accuracy                           0.96       114\n",
            "   macro avg       0.96      0.95      0.95       114\n",
            "weighted avg       0.96      0.96      0.96       114\n",
            "\n",
            "\n",
            "Classification Report for Polynomial Kernel:\n",
            "              precision    recall  f1-score   support\n",
            "\n",
            "           0       0.95      0.83      0.89        42\n",
            "           1       0.91      0.97      0.94        72\n",
            "\n",
            "    accuracy                           0.92       114\n",
            "   macro avg       0.93      0.90      0.91       114\n",
            "weighted avg       0.92      0.92      0.92       114\n",
            "\n",
            "\n",
            "Classification Report for RBF Kernel:\n",
            "              precision    recall  f1-score   support\n",
            "\n",
            "           0       0.95      0.86      0.90        42\n",
            "           1       0.92      0.97      0.95        72\n",
            "\n",
            "    accuracy                           0.93       114\n",
            "   macro avg       0.93      0.91      0.92       114\n",
            "weighted avg       0.93      0.93      0.93       114\n",
            "\n"
          ]
        }
      ]
    },
    {
      "cell_type": "markdown",
      "source": [
        "# Q-38) Write a Python program to train an SVM Classifier using Stratified K-Fold Cross-Validation and compute the average accuracy."
      ],
      "metadata": {
        "id": "pXAZbt35dHy8"
      }
    },
    {
      "cell_type": "code",
      "source": [
        "from sklearn.datasets import load_iris\n",
        "from sklearn.model_selection import StratifiedKFold, cross_val_score\n",
        "from sklearn.svm import SVC\n",
        "import numpy as np\n",
        "\n",
        "data = load_iris()\n",
        "X, y = data.data, data.target\n",
        "\n",
        "skf = StratifiedKFold(n_splits=5, shuffle=True, random_state=42)\n",
        "\n",
        "svm_model = SVC(kernel='linear', C=1.0, random_state=42)\n",
        "\n",
        "scores = cross_val_score(svm_model, X, y, cv=skf, scoring='accuracy')\n",
        "\n",
        "print(\"Accuracy scores for each fold:\", scores)\n",
        "print(\"Average Accuracy:\", np.mean(scores))\n"
      ],
      "metadata": {
        "colab": {
          "base_uri": "https://localhost:8080/"
        },
        "id": "sf1uucPbdKxU",
        "outputId": "679d1772-3d99-472f-f74a-6ba5b8deee50"
      },
      "execution_count": 18,
      "outputs": [
        {
          "output_type": "stream",
          "name": "stdout",
          "text": [
            "Accuracy scores for each fold: [1.         1.         0.93333333 1.         1.        ]\n",
            "Average Accuracy: 0.9866666666666667\n"
          ]
        }
      ]
    },
    {
      "cell_type": "markdown",
      "source": [
        "# Q-39) Write a Python program to train a Naïve Bayes classifier using different prior probabilities and compare performance."
      ],
      "metadata": {
        "id": "xNm1e62LdUSl"
      }
    },
    {
      "cell_type": "code",
      "source": [
        "from sklearn.datasets import load_iris\n",
        "from sklearn.model_selection import train_test_split\n",
        "from sklearn.naive_bayes import GaussianNB\n",
        "from sklearn.metrics import accuracy_score, classification_report\n",
        "\n",
        "data = load_iris()\n",
        "X, y = data.data, data.target\n",
        "\n",
        "X_train, X_test, y_train, y_test = train_test_split(\n",
        "    X, y, test_size=0.2, random_state=42, stratify=y\n",
        ")\n",
        "\n",
        "nb_default = GaussianNB()\n",
        "nb_default.fit(X_train, y_train)\n",
        "y_pred_default = nb_default.predict(X_test)\n",
        "accuracy_default = accuracy_score(y_test, y_pred_default)\n",
        "\n",
        "# Define custom prior probabilities (assume non-uniform distribution)\n",
        "custom_priors = [0.2, 0.5, 0.3]  # Example: Different class probabilities\n",
        "\n",
        "nb_custom = GaussianNB(priors=custom_priors)\n",
        "nb_custom.fit(X_train, y_train)\n",
        "y_pred_custom = nb_custom.predict(X_test)\n",
        "accuracy_custom = accuracy_score(y_test, y_pred_custom)\n",
        "\n",
        "print(\"Naïve Bayes Accuracy (Default Prior):\", accuracy_default)\n",
        "print(\"Naïve Bayes Accuracy (Custom Prior):\", accuracy_custom)\n",
        "\n",
        "print(\"\\nClassification Report (Default Prior):\")\n",
        "print(classification_report(y_test, y_pred_default))\n",
        "\n",
        "print(\"\\nClassification Report (Custom Prior):\")\n",
        "print(classification_report(y_test, y_pred_custom))\n"
      ],
      "metadata": {
        "colab": {
          "base_uri": "https://localhost:8080/"
        },
        "id": "LnzZtFIqdXrV",
        "outputId": "092702a0-dd0c-45bc-e68f-840b18485b89"
      },
      "execution_count": 19,
      "outputs": [
        {
          "output_type": "stream",
          "name": "stdout",
          "text": [
            "Naïve Bayes Accuracy (Default Prior): 0.9666666666666667\n",
            "Naïve Bayes Accuracy (Custom Prior): 0.9333333333333333\n",
            "\n",
            "Classification Report (Default Prior):\n",
            "              precision    recall  f1-score   support\n",
            "\n",
            "           0       1.00      1.00      1.00        10\n",
            "           1       1.00      0.90      0.95        10\n",
            "           2       0.91      1.00      0.95        10\n",
            "\n",
            "    accuracy                           0.97        30\n",
            "   macro avg       0.97      0.97      0.97        30\n",
            "weighted avg       0.97      0.97      0.97        30\n",
            "\n",
            "\n",
            "Classification Report (Custom Prior):\n",
            "              precision    recall  f1-score   support\n",
            "\n",
            "           0       1.00      1.00      1.00        10\n",
            "           1       0.90      0.90      0.90        10\n",
            "           2       0.90      0.90      0.90        10\n",
            "\n",
            "    accuracy                           0.93        30\n",
            "   macro avg       0.93      0.93      0.93        30\n",
            "weighted avg       0.93      0.93      0.93        30\n",
            "\n"
          ]
        }
      ]
    },
    {
      "cell_type": "markdown",
      "source": [
        "# Q-40) Write a Python program to perform Recursive Feature Elimination (RFE) before training an SVM Classifier and compare accuracy."
      ],
      "metadata": {
        "id": "d6PkR-8_dgrH"
      }
    },
    {
      "cell_type": "code",
      "source": [
        "from sklearn.datasets import load_breast_cancer\n",
        "from sklearn.model_selection import train_test_split\n",
        "from sklearn.svm import SVC\n",
        "from sklearn.feature_selection import RFE\n",
        "from sklearn.metrics import accuracy_score\n",
        "\n",
        "data = load_breast_cancer()\n",
        "X, y = data.data, data.target\n",
        "\n",
        "X_train, X_test, y_train, y_test = train_test_split(\n",
        "    X, y, test_size=0.2, random_state=42, stratify=y\n",
        ")\n",
        "\n",
        "svm = SVC(kernel='linear', C=1.0, random_state=42)\n",
        "svm.fit(X_train, y_train)\n",
        "y_pred = svm.predict(X_test)\n",
        "accuracy_before = accuracy_score(y_test, y_pred)\n",
        "\n",
        "# Perform Recursive Feature Elimination (RFE)\n",
        "rfe = RFE(estimator=svm, n_features_to_select=10)  # Selecting top 10 features\n",
        "X_train_rfe = rfe.fit_transform(X_train, y_train)\n",
        "X_test_rfe = rfe.transform(X_test)\n",
        "\n",
        "svm_rfe = SVC(kernel='linear', C=1.0, random_state=42)\n",
        "svm_rfe.fit(X_train_rfe, y_train)\n",
        "y_pred_rfe = svm_rfe.predict(X_test_rfe)\n",
        "accuracy_after = accuracy_score(y_test, y_pred_rfe)\n",
        "\n",
        "print(\"SVM Accuracy Before RFE:\", accuracy_before)\n",
        "print(\"SVM Accuracy After RFE:\", accuracy_after)\n"
      ],
      "metadata": {
        "colab": {
          "base_uri": "https://localhost:8080/"
        },
        "id": "QfmxVIwedjGn",
        "outputId": "28a1c3ac-3ee2-4b22-dffc-6f63240b3c4b"
      },
      "execution_count": 20,
      "outputs": [
        {
          "output_type": "stream",
          "name": "stdout",
          "text": [
            "SVM Accuracy Before RFE: 0.956140350877193\n",
            "SVM Accuracy After RFE: 0.9122807017543859\n"
          ]
        }
      ]
    },
    {
      "cell_type": "markdown",
      "source": [
        "# Q-41) Write a Python program to train an SVM Classifier and evaluate its performance using Precision, Recall, and F1-Score instead of accuracy."
      ],
      "metadata": {
        "id": "p0Fj_nvOdtd4"
      }
    },
    {
      "cell_type": "code",
      "source": [
        "from sklearn.datasets import load_breast_cancer\n",
        "from sklearn.model_selection import train_test_split\n",
        "from sklearn.svm import SVC\n",
        "from sklearn.metrics import precision_score, recall_score, f1_score, classification_report\n",
        "\n",
        "data = load_breast_cancer()\n",
        "X, y = data.data, data.target\n",
        "\n",
        "X_train, X_test, y_train, y_test = train_test_split(\n",
        "    X, y, test_size=0.2, random_state=42, stratify=y\n",
        ")\n",
        "\n",
        "svm = SVC(kernel='linear', C=1.0, random_state=42)\n",
        "svm.fit(X_train, y_train)\n",
        "\n",
        "y_pred = svm.predict(X_test)\n",
        "\n",
        "precision = precision_score(y_test, y_pred)\n",
        "recall = recall_score(y_test, y_pred)\n",
        "f1 = f1_score(y_test, y_pred)\n",
        "\n",
        "print(\"Precision:\", precision)\n",
        "print(\"Recall:\", recall)\n",
        "print(\"F1-Score:\", f1)\n",
        "print(\"\\nClassification Report:\\n\", classification_report(y_test, y_pred))\n"
      ],
      "metadata": {
        "colab": {
          "base_uri": "https://localhost:8080/"
        },
        "id": "sVjMZ00RdxEH",
        "outputId": "f5ac2868-554b-4e88-87f5-18158b220c49"
      },
      "execution_count": 21,
      "outputs": [
        {
          "output_type": "stream",
          "name": "stdout",
          "text": [
            "Precision: 0.9466666666666667\n",
            "Recall: 0.9861111111111112\n",
            "F1-Score: 0.9659863945578231\n",
            "\n",
            "Classification Report:\n",
            "               precision    recall  f1-score   support\n",
            "\n",
            "           0       0.97      0.90      0.94        42\n",
            "           1       0.95      0.99      0.97        72\n",
            "\n",
            "    accuracy                           0.96       114\n",
            "   macro avg       0.96      0.95      0.95       114\n",
            "weighted avg       0.96      0.96      0.96       114\n",
            "\n"
          ]
        }
      ]
    },
    {
      "cell_type": "markdown",
      "source": [
        "# Q-42) Write a Python program to train a Naïve Bayes Classifier and evaluate its performance using Log Loss (Cross-Entropy Loss)."
      ],
      "metadata": {
        "id": "E08xI6Tnd6BJ"
      }
    },
    {
      "cell_type": "code",
      "source": [
        "from sklearn.datasets import load_digits\n",
        "from sklearn.model_selection import train_test_split\n",
        "from sklearn.naive_bayes import GaussianNB\n",
        "from sklearn.metrics import log_loss\n",
        "\n",
        "data = load_digits()\n",
        "X, y = data.data, data.target\n",
        "\n",
        "X_train, X_test, y_train, y_test = train_test_split(\n",
        "    X, y, test_size=0.2, random_state=42, stratify=y\n",
        ")\n",
        "\n",
        "nb = GaussianNB()\n",
        "nb.fit(X_train, y_train)\n",
        "\n",
        "y_prob = nb.predict_proba(X_test)\n",
        "\n",
        "loss = log_loss(y_test, y_prob)\n",
        "\n",
        "print(\"Log Loss (Cross-Entropy Loss):\", loss)\n"
      ],
      "metadata": {
        "colab": {
          "base_uri": "https://localhost:8080/"
        },
        "id": "3MbrIKfMd9Gb",
        "outputId": "b405ce55-dbda-4540-ba22-1d9634e4d9c7"
      },
      "execution_count": 22,
      "outputs": [
        {
          "output_type": "stream",
          "name": "stdout",
          "text": [
            "Log Loss (Cross-Entropy Loss): 3.540852421476834\n"
          ]
        }
      ]
    },
    {
      "cell_type": "markdown",
      "source": [
        "# Q-43)  Write a Python program to train an SVM Classifier and visualize the Confusion Matrix using seaborn."
      ],
      "metadata": {
        "id": "nZ9htBXGeGvE"
      }
    },
    {
      "cell_type": "code",
      "source": [
        "import seaborn as sns\n",
        "import matplotlib.pyplot as plt\n",
        "from sklearn.datasets import load_breast_cancer\n",
        "from sklearn.model_selection import train_test_split\n",
        "from sklearn.svm import SVC\n",
        "from sklearn.metrics import confusion_matrix\n",
        "\n",
        "data = load_breast_cancer()\n",
        "X, y = data.data, data.target\n",
        "\n",
        "X_train, X_test, y_train, y_test = train_test_split(\n",
        "    X, y, test_size=0.2, random_state=42, stratify=y\n",
        ")\n",
        "\n",
        "svm = SVC(kernel='linear', C=1.0, random_state=42)\n",
        "svm.fit(X_train, y_train)\n",
        "\n",
        "y_pred = svm.predict(X_test)\n",
        "\n",
        "cm = confusion_matrix(y_test, y_pred)\n",
        "\n",
        "plt.figure(figsize=(6, 4))\n",
        "sns.heatmap(cm, annot=True, fmt=\"d\", cmap=\"Blues\", xticklabels=['Benign', 'Malignant'], yticklabels=['Benign', 'Malignant'])\n",
        "plt.xlabel(\"Predicted Label\")\n",
        "plt.ylabel(\"True Label\")\n",
        "plt.title(\"Confusion Matrix - SVM Classifier\")\n",
        "plt.show()\n"
      ],
      "metadata": {
        "colab": {
          "base_uri": "https://localhost:8080/",
          "height": 410
        },
        "id": "FdKleKrQeKZs",
        "outputId": "514ad365-fbd4-4ca3-cfe0-ea300df7f28d"
      },
      "execution_count": 23,
      "outputs": [
        {
          "output_type": "display_data",
          "data": {
            "text/plain": [
              "<Figure size 600x400 with 2 Axes>"
            ],
            "image/png": "[encoded data removed]"
          },
          "metadata": {}
        }
      ]
    },
    {
      "cell_type": "markdown",
      "source": [
        "# Q-44)  Write a Python program to train an SVM Regressor (SVR) and evaluate its performance using Mean Absolute Error (MAE) instead of MSE."
      ],
      "metadata": {
        "id": "E30yTwB6eTqF"
      }
    },
    {
      "cell_type": "code",
      "source": [
        "import numpy as np\n",
        "import matplotlib.pyplot as plt\n",
        "from sklearn.model_selection import train_test_split\n",
        "from sklearn.svm import SVR\n",
        "from sklearn.metrics import mean_absolute_error\n",
        "from sklearn.datasets import fetch_california_housing\n",
        "\n",
        "data = fetch_california_housing()\n",
        "X, y = data.data, data.target\n",
        "\n",
        "# Use only a subset of features for better SVR performance\n",
        "X = X[:, :2]  # Selecting only first two features for simplicity\n",
        "\n",
        "X_train, X_test, y_train, y_test = train_test_split(\n",
        "    X, y, test_size=0.2, random_state=42\n",
        ")\n",
        "\n",
        "svr = SVR(kernel='rbf', C=100, gamma=0.1, epsilon=0.1)\n",
        "svr.fit(X_train, y_train)\n",
        "\n",
        "y_pred = svr.predict(X_test)\n",
        "\n",
        "mae = mean_absolute_error(y_test, y_pred)\n",
        "print(\"Mean Absolute Error (MAE):\", mae)\n"
      ],
      "metadata": {
        "colab": {
          "base_uri": "https://localhost:8080/"
        },
        "id": "73pBOCPEeW79",
        "outputId": "fd9c4fc0-1083-42e9-a32f-691674854a75"
      },
      "execution_count": 24,
      "outputs": [
        {
          "output_type": "stream",
          "name": "stdout",
          "text": [
            "Mean Absolute Error (MAE): 0.5637911177581734\n"
          ]
        }
      ]
    },
    {
      "cell_type": "markdown",
      "source": [
        "# Q-45) Write a Python program to train a Naïve Bayes classifier and evaluate its performance using the ROC-AUC score."
      ],
      "metadata": {
        "id": "SOh0gzVdejbf"
      }
    },
    {
      "cell_type": "code",
      "source": [
        "import numpy as np\n",
        "import matplotlib.pyplot as plt\n",
        "from sklearn.datasets import load_breast_cancer\n",
        "from sklearn.model_selection import train_test_split\n",
        "from sklearn.naive_bayes import GaussianNB\n",
        "from sklearn.metrics import roc_auc_score, roc_curve, auc\n",
        "\n",
        "data = load_breast_cancer()\n",
        "X, y = data.data, data.target\n",
        "\n",
        "X_train, X_test, y_train, y_test = train_test_split(\n",
        "    X, y, test_size=0.2, random_state=42, stratify=y\n",
        ")\n",
        "\n",
        "nb = GaussianNB()\n",
        "nb.fit(X_train, y_train)\n",
        "\n",
        "# Predict probability estimates for ROC-AUC calculation\n",
        "y_prob = nb.predict_proba(X_test)[:, 1]\n",
        "\n",
        "roc_auc = roc_auc_score(y_test, y_prob)\n",
        "fpr, tpr, _ = roc_curve(y_test, y_prob)\n",
        "\n",
        "plt.figure(figsize=(6, 4))\n",
        "plt.plot(fpr, tpr, color='blue', label=f\"ROC Curve (AUC = {roc_auc:.2f})\")\n",
        "plt.plot([0, 1], [0, 1], color='gray', linestyle='--')  # Diagonal line\n",
        "plt.xlabel(\"False Positive Rate\")\n",
        "plt.ylabel(\"True Positive Rate\")\n",
        "plt.title(\"ROC Curve - Naïve Bayes Classifier\")\n",
        "plt.legend()\n",
        "plt.show()\n",
        "\n",
        "print(\"ROC-AUC Score:\", roc_auc)\n"
      ],
      "metadata": {
        "colab": {
          "base_uri": "https://localhost:8080/",
          "height": 427
        },
        "id": "AZkugQ-Tem1Q",
        "outputId": "64580453-f801-499f-b30f-581e8121f830"
      },
      "execution_count": 25,
      "outputs": [
        {
          "output_type": "display_data",
          "data": {
            "text/plain": [
              "<Figure size 600x400 with 1 Axes>"
            ],
            "image/png": "[encoded data removed]"
          },
          "metadata": {}
        },
        {
          "output_type": "stream",
          "name": "stdout",
          "text": [
            "ROC-AUC Score: 0.9877645502645502\n"
          ]
        }
      ]
    },
    {
      "cell_type": "markdown",
      "source": [
        "# Q-46)  Write a Python program to train an SVM Classifier and visualize the Precision-Recall Curve."
      ],
      "metadata": {
        "id": "8t_as8Ope2WV"
      }
    },
    {
      "cell_type": "code",
      "source": [
        "import numpy as np\n",
        "import matplotlib.pyplot as plt\n",
        "from sklearn.datasets import load_breast_cancer\n",
        "from sklearn.model_selection import train_test_split\n",
        "from sklearn.svm import SVC\n",
        "from sklearn.metrics import precision_recall_curve, auc\n",
        "\n",
        "data = load_breast_cancer()\n",
        "X, y = data.data, data.target\n",
        "\n",
        "X_train, X_test, y_train, y_test = train_test_split(\n",
        "    X, y, test_size=0.2, random_state=42, stratify=y\n",
        ")\n",
        "\n",
        "svm = SVC(kernel='linear', C=1.0, probability=True, random_state=42)\n",
        "svm.fit(X_train, y_train)\n",
        "\n",
        "y_prob = svm.predict_proba(X_test)[:, 1]\n",
        "\n",
        "precision, recall, _ = precision_recall_curve(y_test, y_prob)\n",
        "\n",
        "pr_auc = auc(recall, precision)\n",
        "\n",
        "plt.figure(figsize=(6, 4))\n",
        "plt.plot(recall, precision, color='blue', label=f\"PR Curve (AUC = {pr_auc:.2f})\")\n",
        "plt.xlabel(\"Recall\")\n",
        "plt.ylabel(\"Precision\")\n",
        "plt.title(\"Precision-Recall Curve - SVM Classifier\")\n",
        "plt.legend()\n",
        "plt.show()\n"
      ],
      "metadata": {
        "colab": {
          "base_uri": "https://localhost:8080/",
          "height": 410
        },
        "id": "Ju69lnIPe4YO",
        "outputId": "85726581-b70d-4b71-c56d-43790d1deac1"
      },
      "execution_count": 26,
      "outputs": [
        {
          "output_type": "display_data",
          "data": {
            "text/plain": [
              "<Figure size 600x400 with 1 Axes>"
            ],
            "image/png": "[encoded data removed]"
          },
          "metadata": {}
        }
      ]
    }
  ]
}